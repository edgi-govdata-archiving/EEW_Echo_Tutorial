{
  "cells": [
    {
      "cell_type": "markdown",
      "metadata": {
        "id": "UdGOD19kaRLB"
      },
      "source": [
        "| ![EEW logo](https://github.com/edgi-govdata-archiving/EEW-Image-Assets/blob/master/Jupyter%20instructions/eew.jpg?raw=true) | ![EDGI logo](https://github.com/edgi-govdata-archiving/EEW-Image-Assets/blob/master/Jupyter%20instructions/edgi.png?raw=true) |\n",
        "|---|---|\n",
        "\n",
        "This notebook is licensed under GPL 3.0. Please visit our [Github repo](https://github.com/edgi-govdata-archiving/ECHO-Cross-Program) for more information.\n",
        "\n",
        "The notebook was collaboratively authored by EDGI following our [authorship protocol](https://docs.google.com/document/d/1CtDN5ZZ4Zv70fHiBTmWkDJ9mswEipX6eCYrwicP66Xw/).\n",
        "\n",
        "For more information about this project, visit https://www.environmentalenforcementwatch.org/"
      ]
    },
    {
      "cell_type": "markdown",
      "metadata": {
        "id": "zH-0GpDAaRLJ"
      },
      "source": [
        "# Using EDGI/EEW's copy of the EPA Enforcement Compliance and History Online database\n",
        "\n",
        "This notebook provides a tutorial to examining data from the EPA's Enforcement and Compliance History Online (ECHO) database (https://echo.epa.gov/). It includes information from EPA's programs covering air quality (the Clean Air Act, or CAA), water quality (the Clean Water Act, or CWA), drinking water (Safe Drinking Water Act, SDWA) and hazardous and other waste processing (the Resource Recovery and Conservation Act, or RCRA).\n",
        "\n",
        "ECHO data is available for facility violations as well as inspections and enforcement actions by EPA, state and other agencies. The data made accessible here runs from the present day (the database is refreshed weekly) back to 2001, which is when the EPA believes the data to be most reliable. It is available at the Congressional District level for a selected state, and for counties and zip codes of your choosing.\n",
        "\n",
        "The EPA program acronyms are:\n",
        "- CAA = Clean Air Act\n",
        "- CWA = Clean Water Act\n",
        "- SDWIS = Safe Drinking Water Information System\n",
        "- RCRA = Resource Conservation and Recovery Act\n",
        "- TRI = Toxics Release Inventory\n",
        "- GHG = Greenhouse Gas Reporting Program\n"
      ]
    },
    {
      "cell_type": "markdown",
      "metadata": {
        "id": "TDgxwY6aaRLK"
      },
      "source": [
        "## How to Run\n",
        "* A \"cell\" in a Jupyter notebook is a block of code performing a set of actions making available or using specific data.  The notebook works by running one cell after another, as the notebook user selects offered options.\n",
        "* If you click on a gray **code** cell, a little “play button” arrow appears on the left. If you click the play button, it will run the code in that cell (“**running** a cell”). The button will animate. When the animation stops, the cell has finished running.\n",
        "![Where to click to run the cell](https://github.com/edgi-govdata-archiving/EEW-Image-Assets/blob/master/Jupyter%20instructions/pressplay.JPG?raw=true)\n",
        "* You may get a warning that the notebook was not authored by Google. We know, we authored them! It’s okay. Click “Run Anyway” to continue.\n",
        "![Error Message](https://github.com/edgi-govdata-archiving/EEW-Image-Assets/blob/master/Jupyter%20instructions/warning-message.JPG?raw=true)\n",
        "* **It is important to run cells in order because they depend on each other.**\n",
        "* Run all of the cells in a Notebook to make a complete report. Please feel free to look at and **learn about each result as you create it**!"
      ]
    },
    {
      "cell_type": "markdown",
      "metadata": {
        "id": "Ad_p17bEaRLK"
      },
      "source": [
        "---"
      ]
    },
    {
      "cell_type": "markdown",
      "metadata": {
        "id": "5ci8OkjOaRLK"
      },
      "source": [
        "# **Let's begin!**"
      ]
    },
    {
      "cell_type": "markdown",
      "metadata": {
        "id": "Cyj_M3SXaRLL"
      },
      "source": [
        "Hover over the \"[ ]\" on the top left corner of the cell below and you should see a \"play\" button appear. Click on it to run the cell then move to the next one.\n",
        "\n",
        "These first two cells give us access to some external Python code we will need."
      ]
    },
    {
      "cell_type": "markdown",
      "metadata": {
        "id": "0x-fp6PTaRLL"
      },
      "source": [
        "### 1.  Bring in some helper code we've written (a Python package called `ECHO_modules`)"
      ]
    },
    {
      "cell_type": "code",
      "execution_count": 1,
      "metadata": {
        "id": "OZatef7xaRLL",
        "tags": [],
        "outputId": "35b4a852-96d2-4d5c-ba6a-cc2ec9dfe89f",
        "colab": {
          "base_uri": "https://localhost:8080/"
        }
      },
      "outputs": [
        {
          "output_type": "stream",
          "name": "stdout",
          "text": [
            "Done!\n"
          ]
        }
      ],
      "source": [
        "!pip install ECHO_modules &>/dev/null;\n",
        "\n",
        "print(\"Done!\")"
      ]
    },
    {
      "cell_type": "markdown",
      "metadata": {
        "id": "Mc4Tx0awYQTL"
      },
      "source": [
        "### 2. Let's get familiar with the database.\n",
        "\n",
        "We will construct a query and look at some of the EPA ECHO data."
      ]
    },
    {
      "cell_type": "code",
      "execution_count": 2,
      "metadata": {
        "id": "h9FkEKOfXmns",
        "outputId": "008a4b06-54f3-499a-c6ee-c5d1f939cebf",
        "colab": {
          "base_uri": "https://localhost:8080/",
          "height": 983
        }
      },
      "outputs": [
        {
          "output_type": "stream",
          "name": "stdout",
          "text": [
            "select * from \"ECHO_EXPORTER\" where \"FAC_CITY\" = 'BATON ROUGE' and \"FAC_STATE\" = 'LA'\n"
          ]
        },
        {
          "output_type": "stream",
          "name": "stderr",
          "text": [
            "/usr/local/lib/python3.10/dist-packages/ECHO_modules/get_data.py:33: DtypeWarning: Columns (11) have mixed types. Specify dtype option on import or set low_memory=False.\n",
            "  ds = pd.read_csv(data_location,encoding='iso-8859-1')\n"
          ]
        },
        {
          "output_type": "execute_result",
          "data": {
            "text/plain": [
              "       REGISTRY_ID                                         FAC_NAME  \\\n",
              "0     1.100443e+11                             ALLEN & LEBLANC INC.   \n",
              "1     1.100177e+11                               PARK APARTMENTS II   \n",
              "2     1.100704e+11           LAFOSSE CONSTRUCTION CO. INC. - ROUZAN   \n",
              "3     1.100714e+11                          J&M MARINE SERVICES LLC   \n",
              "4     1.100551e+11                             LA DEPT OF EDUCATION   \n",
              "...            ...                                              ...   \n",
              "4978  1.100006e+11      ALBEMARLE CORP - PROCESS DEVELOPMENT CENTER   \n",
              "4979  1.100033e+11                         GERBER COLLISION & GLASS   \n",
              "4980  1.100014e+11                   BLUE CROSS & BLUE SHIELD OF LA   \n",
              "4981  1.100033e+11  HONEYWELL INTERNATIONAL INC - BATON ROUGE PLANT   \n",
              "4982  1.100603e+11     ASSOCIATED TECHNONLOGIES & MANUFACTURING LLC   \n",
              "\n",
              "                                          FAC_STREET     FAC_CITY FAC_STATE  \\\n",
              "0                                      WOODGATE BLVD  BATON ROUGE        LA   \n",
              "1                                            UNKNOWN  BATON ROUGE        LA   \n",
              "2                         PERKINS RD ON GLASGOW AVE.  BATON ROUGE        LA   \n",
              "3     VULACN ROCK YARD; MISS RIVER MILE (MRM)  116 &  BATON ROUGE        LA   \n",
              "4                                    1666 SCENIC HWY  BATON ROUGE        LA   \n",
              "...                                              ...          ...       ...   \n",
              "4978                           1201 GULF STATES ROAD  BATON ROUGE        LA   \n",
              "4979                   10500 GREENWELL SPRINGS STE D  BATON ROUGE        LA   \n",
              "4980                                  5525 REITZ AVE  BATON ROUGE        LA   \n",
              "4981                                 2966 LUPINE AVE  BATON ROUGE        LA   \n",
              "4982                                     7284 TOM DR  BATON ROUGE        LA   \n",
              "\n",
              "      FAC_ZIP        FAC_COUNTY  FAC_FIPS_CODE  FAC_EPA_REGION  \\\n",
              "0       70895  EAST BATON ROUGE        22033.0             6.0   \n",
              "1           0  EAST BATON ROUGE        22033.0             6.0   \n",
              "2       70808  EAST BATON ROUGE        22033.0             6.0   \n",
              "3       70811  EAST BATON ROUGE        22033.0             6.0   \n",
              "4       70802  EAST BATON ROUGE        22033.0             6.0   \n",
              "...       ...               ...            ...             ...   \n",
              "4978    70805  EAST BATON ROUGE        22033.0             6.0   \n",
              "4979    70814  EAST BATON ROUGE        22033.0             6.0   \n",
              "4980    70809  EAST BATON ROUGE        22033.0             6.0   \n",
              "4981    70805  EAST BATON ROUGE        22033.0             6.0   \n",
              "4982    70806  EAST BATON ROUGE        22033.0             6.0   \n",
              "\n",
              "     FAC_INDIAN_CNTRY_FLG  ... FAC_DATE_LAST_INSPECTION_STATE  \\\n",
              "0                       N  ...                            NaN   \n",
              "1                       N  ...                            NaN   \n",
              "2                       N  ...                            NaN   \n",
              "3                       N  ...                            NaN   \n",
              "4                       N  ...                            NaN   \n",
              "...                   ...  ...                            ...   \n",
              "4978                    N  ...                     10/03/2022   \n",
              "4979                    N  ...                            NaN   \n",
              "4980                    N  ...                     01/11/2001   \n",
              "4981                    N  ...                     06/15/2022   \n",
              "4982                    N  ...                            NaN   \n",
              "\n",
              "     FAC_DATE_LAST_FORMAL_ACT_EPA  FAC_DATE_LAST_FORMAL_ACT_ST  \\\n",
              "0                             NaN                          NaN   \n",
              "1                             NaN                          NaN   \n",
              "2                             NaN                          NaN   \n",
              "3                             NaN                          NaN   \n",
              "4                             NaN                          NaN   \n",
              "...                           ...                          ...   \n",
              "4978                   04/10/2012                   11/21/2022   \n",
              "4979                          NaN                          NaN   \n",
              "4980                   10/06/2020                          NaN   \n",
              "4981                   09/30/2020                   09/11/2015   \n",
              "4982                   09/27/2018                          NaN   \n",
              "\n",
              "     FAC_DATE_LAST_INFORMAL_ACT_EPA  FAC_DATE_LAST_INFORMAL_ACT_ST  \\\n",
              "0                               NaN                            NaN   \n",
              "1                               NaN                            NaN   \n",
              "2                               NaN                            NaN   \n",
              "3                               NaN                            NaN   \n",
              "4                               NaN                            NaN   \n",
              "...                             ...                            ...   \n",
              "4978                            NaN                     12/23/2020   \n",
              "4979                            NaN                            NaN   \n",
              "4980                            NaN                            NaN   \n",
              "4981                     12/16/2019                     10/03/2022   \n",
              "4982                            NaN                            NaN   \n",
              "\n",
              "      FAC_FEDERAL_AGENCY TRI_REPORTER FAC_IMP_WATER_FLG EJSCREEN_FLAG_US  \\\n",
              "0                    NaN          NaN               NaN                N   \n",
              "1                    NaN          NaN               NaN                N   \n",
              "2                    NaN          NaN               NaN                N   \n",
              "3                    NaN          NaN               NaN                N   \n",
              "4                    NaN          NaN               NaN                Y   \n",
              "...                  ...          ...               ...              ...   \n",
              "4978                 NaN            Y                 Y                Y   \n",
              "4979                 NaN          NaN               NaN                Y   \n",
              "4980                 NaN          NaN               NaN                N   \n",
              "4981                 NaN            Y                 Y                Y   \n",
              "4982                 NaN          NaN               NaN                Y   \n",
              "\n",
              "                                           wkb_geometry  \n",
              "0     0101000020AD100000643DB5FAEAC456C05C8FC2F52874...  \n",
              "1     0101000020AD10000058E6ADBA0EC856C0A9C29FE1CD72...  \n",
              "2     0101000020AD100000677E350708C956C0DD2406819567...  \n",
              "3     0101000020AD10000012BD8C62B9C756C0219221C7D687...  \n",
              "4     0101000020AD100000C98E8D40BCCA56C075CDE49B6D76...  \n",
              "...                                                 ...  \n",
              "4978  0101000020AD1000002C9FE57970CB56C066666666667E...  \n",
              "4979  0101000020AD10000078978BF84EC456C075029A081B7E...  \n",
              "4980  0101000020AD100000F7CC920035C556C03E7958A83565...  \n",
              "4981  0101000020AD1000008A558330B7CB56C08EC877297579...  \n",
              "4982  0101000020AD10000045F5D6C056C756C083FA96395D76...  \n",
              "\n",
              "[4983 rows x 135 columns]"
            ],
            "text/html": [
              "\n",
              "  <div id=\"df-9662b5e6-3cbb-4a8a-a0b0-eb535421f963\" class=\"colab-df-container\">\n",
              "    <div>\n",
              "<style scoped>\n",
              "    .dataframe tbody tr th:only-of-type {\n",
              "        vertical-align: middle;\n",
              "    }\n",
              "\n",
              "    .dataframe tbody tr th {\n",
              "        vertical-align: top;\n",
              "    }\n",
              "\n",
              "    .dataframe thead th {\n",
              "        text-align: right;\n",
              "    }\n",
              "</style>\n",
              "<table border=\"1\" class=\"dataframe\">\n",
              "  <thead>\n",
              "    <tr style=\"text-align: right;\">\n",
              "      <th></th>\n",
              "      <th>REGISTRY_ID</th>\n",
              "      <th>FAC_NAME</th>\n",
              "      <th>FAC_STREET</th>\n",
              "      <th>FAC_CITY</th>\n",
              "      <th>FAC_STATE</th>\n",
              "      <th>FAC_ZIP</th>\n",
              "      <th>FAC_COUNTY</th>\n",
              "      <th>FAC_FIPS_CODE</th>\n",
              "      <th>FAC_EPA_REGION</th>\n",
              "      <th>FAC_INDIAN_CNTRY_FLG</th>\n",
              "      <th>...</th>\n",
              "      <th>FAC_DATE_LAST_INSPECTION_STATE</th>\n",
              "      <th>FAC_DATE_LAST_FORMAL_ACT_EPA</th>\n",
              "      <th>FAC_DATE_LAST_FORMAL_ACT_ST</th>\n",
              "      <th>FAC_DATE_LAST_INFORMAL_ACT_EPA</th>\n",
              "      <th>FAC_DATE_LAST_INFORMAL_ACT_ST</th>\n",
              "      <th>FAC_FEDERAL_AGENCY</th>\n",
              "      <th>TRI_REPORTER</th>\n",
              "      <th>FAC_IMP_WATER_FLG</th>\n",
              "      <th>EJSCREEN_FLAG_US</th>\n",
              "      <th>wkb_geometry</th>\n",
              "    </tr>\n",
              "  </thead>\n",
              "  <tbody>\n",
              "    <tr>\n",
              "      <th>0</th>\n",
              "      <td>1.100443e+11</td>\n",
              "      <td>ALLEN &amp; LEBLANC INC.</td>\n",
              "      <td>WOODGATE BLVD</td>\n",
              "      <td>BATON ROUGE</td>\n",
              "      <td>LA</td>\n",
              "      <td>70895</td>\n",
              "      <td>EAST BATON ROUGE</td>\n",
              "      <td>22033.0</td>\n",
              "      <td>6.0</td>\n",
              "      <td>N</td>\n",
              "      <td>...</td>\n",
              "      <td>NaN</td>\n",
              "      <td>NaN</td>\n",
              "      <td>NaN</td>\n",
              "      <td>NaN</td>\n",
              "      <td>NaN</td>\n",
              "      <td>NaN</td>\n",
              "      <td>NaN</td>\n",
              "      <td>NaN</td>\n",
              "      <td>N</td>\n",
              "      <td>0101000020AD100000643DB5FAEAC456C05C8FC2F52874...</td>\n",
              "    </tr>\n",
              "    <tr>\n",
              "      <th>1</th>\n",
              "      <td>1.100177e+11</td>\n",
              "      <td>PARK APARTMENTS II</td>\n",
              "      <td>UNKNOWN</td>\n",
              "      <td>BATON ROUGE</td>\n",
              "      <td>LA</td>\n",
              "      <td>0</td>\n",
              "      <td>EAST BATON ROUGE</td>\n",
              "      <td>22033.0</td>\n",
              "      <td>6.0</td>\n",
              "      <td>N</td>\n",
              "      <td>...</td>\n",
              "      <td>NaN</td>\n",
              "      <td>NaN</td>\n",
              "      <td>NaN</td>\n",
              "      <td>NaN</td>\n",
              "      <td>NaN</td>\n",
              "      <td>NaN</td>\n",
              "      <td>NaN</td>\n",
              "      <td>NaN</td>\n",
              "      <td>N</td>\n",
              "      <td>0101000020AD10000058E6ADBA0EC856C0A9C29FE1CD72...</td>\n",
              "    </tr>\n",
              "    <tr>\n",
              "      <th>2</th>\n",
              "      <td>1.100704e+11</td>\n",
              "      <td>LAFOSSE CONSTRUCTION CO. INC. - ROUZAN</td>\n",
              "      <td>PERKINS RD ON GLASGOW AVE.</td>\n",
              "      <td>BATON ROUGE</td>\n",
              "      <td>LA</td>\n",
              "      <td>70808</td>\n",
              "      <td>EAST BATON ROUGE</td>\n",
              "      <td>22033.0</td>\n",
              "      <td>6.0</td>\n",
              "      <td>N</td>\n",
              "      <td>...</td>\n",
              "      <td>NaN</td>\n",
              "      <td>NaN</td>\n",
              "      <td>NaN</td>\n",
              "      <td>NaN</td>\n",
              "      <td>NaN</td>\n",
              "      <td>NaN</td>\n",
              "      <td>NaN</td>\n",
              "      <td>NaN</td>\n",
              "      <td>N</td>\n",
              "      <td>0101000020AD100000677E350708C956C0DD2406819567...</td>\n",
              "    </tr>\n",
              "    <tr>\n",
              "      <th>3</th>\n",
              "      <td>1.100714e+11</td>\n",
              "      <td>J&amp;M MARINE SERVICES LLC</td>\n",
              "      <td>VULACN ROCK YARD; MISS RIVER MILE (MRM)  116 &amp;</td>\n",
              "      <td>BATON ROUGE</td>\n",
              "      <td>LA</td>\n",
              "      <td>70811</td>\n",
              "      <td>EAST BATON ROUGE</td>\n",
              "      <td>22033.0</td>\n",
              "      <td>6.0</td>\n",
              "      <td>N</td>\n",
              "      <td>...</td>\n",
              "      <td>NaN</td>\n",
              "      <td>NaN</td>\n",
              "      <td>NaN</td>\n",
              "      <td>NaN</td>\n",
              "      <td>NaN</td>\n",
              "      <td>NaN</td>\n",
              "      <td>NaN</td>\n",
              "      <td>NaN</td>\n",
              "      <td>N</td>\n",
              "      <td>0101000020AD10000012BD8C62B9C756C0219221C7D687...</td>\n",
              "    </tr>\n",
              "    <tr>\n",
              "      <th>4</th>\n",
              "      <td>1.100551e+11</td>\n",
              "      <td>LA DEPT OF EDUCATION</td>\n",
              "      <td>1666 SCENIC HWY</td>\n",
              "      <td>BATON ROUGE</td>\n",
              "      <td>LA</td>\n",
              "      <td>70802</td>\n",
              "      <td>EAST BATON ROUGE</td>\n",
              "      <td>22033.0</td>\n",
              "      <td>6.0</td>\n",
              "      <td>N</td>\n",
              "      <td>...</td>\n",
              "      <td>NaN</td>\n",
              "      <td>NaN</td>\n",
              "      <td>NaN</td>\n",
              "      <td>NaN</td>\n",
              "      <td>NaN</td>\n",
              "      <td>NaN</td>\n",
              "      <td>NaN</td>\n",
              "      <td>NaN</td>\n",
              "      <td>Y</td>\n",
              "      <td>0101000020AD100000C98E8D40BCCA56C075CDE49B6D76...</td>\n",
              "    </tr>\n",
              "    <tr>\n",
              "      <th>...</th>\n",
              "      <td>...</td>\n",
              "      <td>...</td>\n",
              "      <td>...</td>\n",
              "      <td>...</td>\n",
              "      <td>...</td>\n",
              "      <td>...</td>\n",
              "      <td>...</td>\n",
              "      <td>...</td>\n",
              "      <td>...</td>\n",
              "      <td>...</td>\n",
              "      <td>...</td>\n",
              "      <td>...</td>\n",
              "      <td>...</td>\n",
              "      <td>...</td>\n",
              "      <td>...</td>\n",
              "      <td>...</td>\n",
              "      <td>...</td>\n",
              "      <td>...</td>\n",
              "      <td>...</td>\n",
              "      <td>...</td>\n",
              "      <td>...</td>\n",
              "    </tr>\n",
              "    <tr>\n",
              "      <th>4978</th>\n",
              "      <td>1.100006e+11</td>\n",
              "      <td>ALBEMARLE CORP - PROCESS DEVELOPMENT CENTER</td>\n",
              "      <td>1201 GULF STATES ROAD</td>\n",
              "      <td>BATON ROUGE</td>\n",
              "      <td>LA</td>\n",
              "      <td>70805</td>\n",
              "      <td>EAST BATON ROUGE</td>\n",
              "      <td>22033.0</td>\n",
              "      <td>6.0</td>\n",
              "      <td>N</td>\n",
              "      <td>...</td>\n",
              "      <td>10/03/2022</td>\n",
              "      <td>04/10/2012</td>\n",
              "      <td>11/21/2022</td>\n",
              "      <td>NaN</td>\n",
              "      <td>12/23/2020</td>\n",
              "      <td>NaN</td>\n",
              "      <td>Y</td>\n",
              "      <td>Y</td>\n",
              "      <td>Y</td>\n",
              "      <td>0101000020AD1000002C9FE57970CB56C066666666667E...</td>\n",
              "    </tr>\n",
              "    <tr>\n",
              "      <th>4979</th>\n",
              "      <td>1.100033e+11</td>\n",
              "      <td>GERBER COLLISION &amp; GLASS</td>\n",
              "      <td>10500 GREENWELL SPRINGS STE D</td>\n",
              "      <td>BATON ROUGE</td>\n",
              "      <td>LA</td>\n",
              "      <td>70814</td>\n",
              "      <td>EAST BATON ROUGE</td>\n",
              "      <td>22033.0</td>\n",
              "      <td>6.0</td>\n",
              "      <td>N</td>\n",
              "      <td>...</td>\n",
              "      <td>NaN</td>\n",
              "      <td>NaN</td>\n",
              "      <td>NaN</td>\n",
              "      <td>NaN</td>\n",
              "      <td>NaN</td>\n",
              "      <td>NaN</td>\n",
              "      <td>NaN</td>\n",
              "      <td>NaN</td>\n",
              "      <td>Y</td>\n",
              "      <td>0101000020AD10000078978BF84EC456C075029A081B7E...</td>\n",
              "    </tr>\n",
              "    <tr>\n",
              "      <th>4980</th>\n",
              "      <td>1.100014e+11</td>\n",
              "      <td>BLUE CROSS &amp; BLUE SHIELD OF LA</td>\n",
              "      <td>5525 REITZ AVE</td>\n",
              "      <td>BATON ROUGE</td>\n",
              "      <td>LA</td>\n",
              "      <td>70809</td>\n",
              "      <td>EAST BATON ROUGE</td>\n",
              "      <td>22033.0</td>\n",
              "      <td>6.0</td>\n",
              "      <td>N</td>\n",
              "      <td>...</td>\n",
              "      <td>01/11/2001</td>\n",
              "      <td>10/06/2020</td>\n",
              "      <td>NaN</td>\n",
              "      <td>NaN</td>\n",
              "      <td>NaN</td>\n",
              "      <td>NaN</td>\n",
              "      <td>NaN</td>\n",
              "      <td>NaN</td>\n",
              "      <td>N</td>\n",
              "      <td>0101000020AD100000F7CC920035C556C03E7958A83565...</td>\n",
              "    </tr>\n",
              "    <tr>\n",
              "      <th>4981</th>\n",
              "      <td>1.100033e+11</td>\n",
              "      <td>HONEYWELL INTERNATIONAL INC - BATON ROUGE PLANT</td>\n",
              "      <td>2966 LUPINE AVE</td>\n",
              "      <td>BATON ROUGE</td>\n",
              "      <td>LA</td>\n",
              "      <td>70805</td>\n",
              "      <td>EAST BATON ROUGE</td>\n",
              "      <td>22033.0</td>\n",
              "      <td>6.0</td>\n",
              "      <td>N</td>\n",
              "      <td>...</td>\n",
              "      <td>06/15/2022</td>\n",
              "      <td>09/30/2020</td>\n",
              "      <td>09/11/2015</td>\n",
              "      <td>12/16/2019</td>\n",
              "      <td>10/03/2022</td>\n",
              "      <td>NaN</td>\n",
              "      <td>Y</td>\n",
              "      <td>Y</td>\n",
              "      <td>Y</td>\n",
              "      <td>0101000020AD1000008A558330B7CB56C08EC877297579...</td>\n",
              "    </tr>\n",
              "    <tr>\n",
              "      <th>4982</th>\n",
              "      <td>1.100603e+11</td>\n",
              "      <td>ASSOCIATED TECHNONLOGIES &amp; MANUFACTURING LLC</td>\n",
              "      <td>7284 TOM DR</td>\n",
              "      <td>BATON ROUGE</td>\n",
              "      <td>LA</td>\n",
              "      <td>70806</td>\n",
              "      <td>EAST BATON ROUGE</td>\n",
              "      <td>22033.0</td>\n",
              "      <td>6.0</td>\n",
              "      <td>N</td>\n",
              "      <td>...</td>\n",
              "      <td>NaN</td>\n",
              "      <td>09/27/2018</td>\n",
              "      <td>NaN</td>\n",
              "      <td>NaN</td>\n",
              "      <td>NaN</td>\n",
              "      <td>NaN</td>\n",
              "      <td>NaN</td>\n",
              "      <td>NaN</td>\n",
              "      <td>Y</td>\n",
              "      <td>0101000020AD10000045F5D6C056C756C083FA96395D76...</td>\n",
              "    </tr>\n",
              "  </tbody>\n",
              "</table>\n",
              "<p>4983 rows × 135 columns</p>\n",
              "</div>\n",
              "    <div class=\"colab-df-buttons\">\n",
              "\n",
              "  <div class=\"colab-df-container\">\n",
              "    <button class=\"colab-df-convert\" onclick=\"convertToInteractive('df-9662b5e6-3cbb-4a8a-a0b0-eb535421f963')\"\n",
              "            title=\"Convert this dataframe to an interactive table.\"\n",
              "            style=\"display:none;\">\n",
              "\n",
              "  <svg xmlns=\"http://www.w3.org/2000/svg\" height=\"24px\" viewBox=\"0 -960 960 960\">\n",
              "    <path d=\"M120-120v-720h720v720H120Zm60-500h600v-160H180v160Zm220 220h160v-160H400v160Zm0 220h160v-160H400v160ZM180-400h160v-160H180v160Zm440 0h160v-160H620v160ZM180-180h160v-160H180v160Zm440 0h160v-160H620v160Z\"/>\n",
              "  </svg>\n",
              "    </button>\n",
              "\n",
              "  <style>\n",
              "    .colab-df-container {\n",
              "      display:flex;\n",
              "      gap: 12px;\n",
              "    }\n",
              "\n",
              "    .colab-df-convert {\n",
              "      background-color: #E8F0FE;\n",
              "      border: none;\n",
              "      border-radius: 50%;\n",
              "      cursor: pointer;\n",
              "      display: none;\n",
              "      fill: #1967D2;\n",
              "      height: 32px;\n",
              "      padding: 0 0 0 0;\n",
              "      width: 32px;\n",
              "    }\n",
              "\n",
              "    .colab-df-convert:hover {\n",
              "      background-color: #E2EBFA;\n",
              "      box-shadow: 0px 1px 2px rgba(60, 64, 67, 0.3), 0px 1px 3px 1px rgba(60, 64, 67, 0.15);\n",
              "      fill: #174EA6;\n",
              "    }\n",
              "\n",
              "    .colab-df-buttons div {\n",
              "      margin-bottom: 4px;\n",
              "    }\n",
              "\n",
              "    [theme=dark] .colab-df-convert {\n",
              "      background-color: #3B4455;\n",
              "      fill: #D2E3FC;\n",
              "    }\n",
              "\n",
              "    [theme=dark] .colab-df-convert:hover {\n",
              "      background-color: #434B5C;\n",
              "      box-shadow: 0px 1px 3px 1px rgba(0, 0, 0, 0.15);\n",
              "      filter: drop-shadow(0px 1px 2px rgba(0, 0, 0, 0.3));\n",
              "      fill: #FFFFFF;\n",
              "    }\n",
              "  </style>\n",
              "\n",
              "    <script>\n",
              "      const buttonEl =\n",
              "        document.querySelector('#df-9662b5e6-3cbb-4a8a-a0b0-eb535421f963 button.colab-df-convert');\n",
              "      buttonEl.style.display =\n",
              "        google.colab.kernel.accessAllowed ? 'block' : 'none';\n",
              "\n",
              "      async function convertToInteractive(key) {\n",
              "        const element = document.querySelector('#df-9662b5e6-3cbb-4a8a-a0b0-eb535421f963');\n",
              "        const dataTable =\n",
              "          await google.colab.kernel.invokeFunction('convertToInteractive',\n",
              "                                                    [key], {});\n",
              "        if (!dataTable) return;\n",
              "\n",
              "        const docLinkHtml = 'Like what you see? Visit the ' +\n",
              "          '<a target=\"_blank\" href=https://colab.research.google.com/notebooks/data_table.ipynb>data table notebook</a>'\n",
              "          + ' to learn more about interactive tables.';\n",
              "        element.innerHTML = '';\n",
              "        dataTable['output_type'] = 'display_data';\n",
              "        await google.colab.output.renderOutput(dataTable, element);\n",
              "        const docLink = document.createElement('div');\n",
              "        docLink.innerHTML = docLinkHtml;\n",
              "        element.appendChild(docLink);\n",
              "      }\n",
              "    </script>\n",
              "  </div>\n",
              "\n",
              "\n",
              "<div id=\"df-1bd302f8-f98e-4a71-b015-661c48737745\">\n",
              "  <button class=\"colab-df-quickchart\" onclick=\"quickchart('df-1bd302f8-f98e-4a71-b015-661c48737745')\"\n",
              "            title=\"Suggest charts\"\n",
              "            style=\"display:none;\">\n",
              "\n",
              "<svg xmlns=\"http://www.w3.org/2000/svg\" height=\"24px\"viewBox=\"0 0 24 24\"\n",
              "     width=\"24px\">\n",
              "    <g>\n",
              "        <path d=\"M19 3H5c-1.1 0-2 .9-2 2v14c0 1.1.9 2 2 2h14c1.1 0 2-.9 2-2V5c0-1.1-.9-2-2-2zM9 17H7v-7h2v7zm4 0h-2V7h2v10zm4 0h-2v-4h2v4z\"/>\n",
              "    </g>\n",
              "</svg>\n",
              "  </button>\n",
              "\n",
              "<style>\n",
              "  .colab-df-quickchart {\n",
              "      --bg-color: #E8F0FE;\n",
              "      --fill-color: #1967D2;\n",
              "      --hover-bg-color: #E2EBFA;\n",
              "      --hover-fill-color: #174EA6;\n",
              "      --disabled-fill-color: #AAA;\n",
              "      --disabled-bg-color: #DDD;\n",
              "  }\n",
              "\n",
              "  [theme=dark] .colab-df-quickchart {\n",
              "      --bg-color: #3B4455;\n",
              "      --fill-color: #D2E3FC;\n",
              "      --hover-bg-color: #434B5C;\n",
              "      --hover-fill-color: #FFFFFF;\n",
              "      --disabled-bg-color: #3B4455;\n",
              "      --disabled-fill-color: #666;\n",
              "  }\n",
              "\n",
              "  .colab-df-quickchart {\n",
              "    background-color: var(--bg-color);\n",
              "    border: none;\n",
              "    border-radius: 50%;\n",
              "    cursor: pointer;\n",
              "    display: none;\n",
              "    fill: var(--fill-color);\n",
              "    height: 32px;\n",
              "    padding: 0;\n",
              "    width: 32px;\n",
              "  }\n",
              "\n",
              "  .colab-df-quickchart:hover {\n",
              "    background-color: var(--hover-bg-color);\n",
              "    box-shadow: 0 1px 2px rgba(60, 64, 67, 0.3), 0 1px 3px 1px rgba(60, 64, 67, 0.15);\n",
              "    fill: var(--button-hover-fill-color);\n",
              "  }\n",
              "\n",
              "  .colab-df-quickchart-complete:disabled,\n",
              "  .colab-df-quickchart-complete:disabled:hover {\n",
              "    background-color: var(--disabled-bg-color);\n",
              "    fill: var(--disabled-fill-color);\n",
              "    box-shadow: none;\n",
              "  }\n",
              "\n",
              "  .colab-df-spinner {\n",
              "    border: 2px solid var(--fill-color);\n",
              "    border-color: transparent;\n",
              "    border-bottom-color: var(--fill-color);\n",
              "    animation:\n",
              "      spin 1s steps(1) infinite;\n",
              "  }\n",
              "\n",
              "  @keyframes spin {\n",
              "    0% {\n",
              "      border-color: transparent;\n",
              "      border-bottom-color: var(--fill-color);\n",
              "      border-left-color: var(--fill-color);\n",
              "    }\n",
              "    20% {\n",
              "      border-color: transparent;\n",
              "      border-left-color: var(--fill-color);\n",
              "      border-top-color: var(--fill-color);\n",
              "    }\n",
              "    30% {\n",
              "      border-color: transparent;\n",
              "      border-left-color: var(--fill-color);\n",
              "      border-top-color: var(--fill-color);\n",
              "      border-right-color: var(--fill-color);\n",
              "    }\n",
              "    40% {\n",
              "      border-color: transparent;\n",
              "      border-right-color: var(--fill-color);\n",
              "      border-top-color: var(--fill-color);\n",
              "    }\n",
              "    60% {\n",
              "      border-color: transparent;\n",
              "      border-right-color: var(--fill-color);\n",
              "    }\n",
              "    80% {\n",
              "      border-color: transparent;\n",
              "      border-right-color: var(--fill-color);\n",
              "      border-bottom-color: var(--fill-color);\n",
              "    }\n",
              "    90% {\n",
              "      border-color: transparent;\n",
              "      border-bottom-color: var(--fill-color);\n",
              "    }\n",
              "  }\n",
              "</style>\n",
              "\n",
              "  <script>\n",
              "    async function quickchart(key) {\n",
              "      const quickchartButtonEl =\n",
              "        document.querySelector('#' + key + ' button');\n",
              "      quickchartButtonEl.disabled = true;  // To prevent multiple clicks.\n",
              "      quickchartButtonEl.classList.add('colab-df-spinner');\n",
              "      try {\n",
              "        const charts = await google.colab.kernel.invokeFunction(\n",
              "            'suggestCharts', [key], {});\n",
              "      } catch (error) {\n",
              "        console.error('Error during call to suggestCharts:', error);\n",
              "      }\n",
              "      quickchartButtonEl.classList.remove('colab-df-spinner');\n",
              "      quickchartButtonEl.classList.add('colab-df-quickchart-complete');\n",
              "    }\n",
              "    (() => {\n",
              "      let quickchartButtonEl =\n",
              "        document.querySelector('#df-1bd302f8-f98e-4a71-b015-661c48737745 button');\n",
              "      quickchartButtonEl.style.display =\n",
              "        google.colab.kernel.accessAllowed ? 'block' : 'none';\n",
              "    })();\n",
              "  </script>\n",
              "</div>\n",
              "\n",
              "  <div id=\"id_c59a2cfb-f077-4459-a14f-ae64f9d03e7b\">\n",
              "    <style>\n",
              "      .colab-df-generate {\n",
              "        background-color: #E8F0FE;\n",
              "        border: none;\n",
              "        border-radius: 50%;\n",
              "        cursor: pointer;\n",
              "        display: none;\n",
              "        fill: #1967D2;\n",
              "        height: 32px;\n",
              "        padding: 0 0 0 0;\n",
              "        width: 32px;\n",
              "      }\n",
              "\n",
              "      .colab-df-generate:hover {\n",
              "        background-color: #E2EBFA;\n",
              "        box-shadow: 0px 1px 2px rgba(60, 64, 67, 0.3), 0px 1px 3px 1px rgba(60, 64, 67, 0.15);\n",
              "        fill: #174EA6;\n",
              "      }\n",
              "\n",
              "      [theme=dark] .colab-df-generate {\n",
              "        background-color: #3B4455;\n",
              "        fill: #D2E3FC;\n",
              "      }\n",
              "\n",
              "      [theme=dark] .colab-df-generate:hover {\n",
              "        background-color: #434B5C;\n",
              "        box-shadow: 0px 1px 3px 1px rgba(0, 0, 0, 0.15);\n",
              "        filter: drop-shadow(0px 1px 2px rgba(0, 0, 0, 0.3));\n",
              "        fill: #FFFFFF;\n",
              "      }\n",
              "    </style>\n",
              "    <button class=\"colab-df-generate\" onclick=\"generateWithVariable('facilities')\"\n",
              "            title=\"Generate code using this dataframe.\"\n",
              "            style=\"display:none;\">\n",
              "\n",
              "  <svg xmlns=\"http://www.w3.org/2000/svg\" height=\"24px\"viewBox=\"0 0 24 24\"\n",
              "       width=\"24px\">\n",
              "    <path d=\"M7,19H8.4L18.45,9,17,7.55,7,17.6ZM5,21V16.75L18.45,3.32a2,2,0,0,1,2.83,0l1.4,1.43a1.91,1.91,0,0,1,.58,1.4,1.91,1.91,0,0,1-.58,1.4L9.25,21ZM18.45,9,17,7.55Zm-12,3A5.31,5.31,0,0,0,4.9,8.1,5.31,5.31,0,0,0,1,6.5,5.31,5.31,0,0,0,4.9,4.9,5.31,5.31,0,0,0,6.5,1,5.31,5.31,0,0,0,8.1,4.9,5.31,5.31,0,0,0,12,6.5,5.46,5.46,0,0,0,6.5,12Z\"/>\n",
              "  </svg>\n",
              "    </button>\n",
              "    <script>\n",
              "      (() => {\n",
              "      const buttonEl =\n",
              "        document.querySelector('#id_c59a2cfb-f077-4459-a14f-ae64f9d03e7b button.colab-df-generate');\n",
              "      buttonEl.style.display =\n",
              "        google.colab.kernel.accessAllowed ? 'block' : 'none';\n",
              "\n",
              "      buttonEl.onclick = () => {\n",
              "        google.colab.notebook.generateWithVariable('facilities');\n",
              "      }\n",
              "      })();\n",
              "    </script>\n",
              "  </div>\n",
              "\n",
              "    </div>\n",
              "  </div>\n"
            ],
            "application/vnd.google.colaboratory.intrinsic+json": {
              "type": "dataframe",
              "variable_name": "facilities"
            }
          },
          "metadata": {},
          "execution_count": 2
        }
      ],
      "source": [
        "from ECHO_modules.get_data import get_echo_data\n",
        "\n",
        "# In the Python programming language, we use # to write comments in our code.\n",
        "# The computer doesn't process these, but they are important for communicating context!\n",
        "\n",
        "# First, we'll write a SQL query. SQL = Structured Query Language. It is a standard format / syntax\n",
        "# for asking databases for specific kinds of information.\n",
        "\n",
        "# Our SQL query begins with a variable sql set to a string that is the query itself\n",
        "sql = 'select * from \"ECHO_EXPORTER\" where \"FAC_CITY\" = \\'BATON ROUGE\\' and \"FAC_STATE\" = \\'LA\\''\n",
        "# This should be read as, select all columns from the ECHO_EXPORTER table (spreadsheet)\n",
        "# where the FAC_CITY (facility city) column is equal to Baton Rouge and the FAC_STATE\n",
        "# column is equal to LA (Louisiana)\n",
        "\n",
        "print(sql) # Debugging\n",
        "\n",
        "# Get the data. `get_data` is a behind the scenes function we wrote in another script and which\n",
        "# was imported in Step 1 of this notebook. It helps us get data from the database!\n",
        "facilities = get_echo_data(sql)\n",
        "\n",
        "# Show the results\n",
        "facilities"
      ]
    },
    {
      "cell_type": "markdown",
      "metadata": {
        "id": "ZaZz64mCbLHM"
      },
      "source": [
        "### 3. Wow, that's a lot of data! How can we work with it?\n",
        "The next few cells introduce some common techniques for parsing and displaying data. We use the Pandas package of add-ons to Python."
      ]
    },
    {
      "cell_type": "code",
      "execution_count": 3,
      "metadata": {
        "id": "4Ho7RLIxbYnl",
        "outputId": "fb9cd122-8e87-4ee2-bc10-593b488e73ab",
        "colab": {
          "base_uri": "https://localhost:8080/",
          "height": 1000
        }
      },
      "outputs": [
        {
          "output_type": "display_data",
          "data": {
            "text/plain": [
              "'REGISTRY_ID'"
            ],
            "application/vnd.google.colaboratory.intrinsic+json": {
              "type": "string"
            }
          },
          "metadata": {}
        },
        {
          "output_type": "display_data",
          "data": {
            "text/plain": [
              "'FAC_NAME'"
            ],
            "application/vnd.google.colaboratory.intrinsic+json": {
              "type": "string"
            }
          },
          "metadata": {}
        },
        {
          "output_type": "display_data",
          "data": {
            "text/plain": [
              "'FAC_STREET'"
            ],
            "application/vnd.google.colaboratory.intrinsic+json": {
              "type": "string"
            }
          },
          "metadata": {}
        },
        {
          "output_type": "display_data",
          "data": {
            "text/plain": [
              "'FAC_CITY'"
            ],
            "application/vnd.google.colaboratory.intrinsic+json": {
              "type": "string"
            }
          },
          "metadata": {}
        },
        {
          "output_type": "display_data",
          "data": {
            "text/plain": [
              "'FAC_STATE'"
            ],
            "application/vnd.google.colaboratory.intrinsic+json": {
              "type": "string"
            }
          },
          "metadata": {}
        },
        {
          "output_type": "display_data",
          "data": {
            "text/plain": [
              "'FAC_ZIP'"
            ],
            "application/vnd.google.colaboratory.intrinsic+json": {
              "type": "string"
            }
          },
          "metadata": {}
        },
        {
          "output_type": "display_data",
          "data": {
            "text/plain": [
              "'FAC_COUNTY'"
            ],
            "application/vnd.google.colaboratory.intrinsic+json": {
              "type": "string"
            }
          },
          "metadata": {}
        },
        {
          "output_type": "display_data",
          "data": {
            "text/plain": [
              "'FAC_FIPS_CODE'"
            ],
            "application/vnd.google.colaboratory.intrinsic+json": {
              "type": "string"
            }
          },
          "metadata": {}
        },
        {
          "output_type": "display_data",
          "data": {
            "text/plain": [
              "'FAC_EPA_REGION'"
            ],
            "application/vnd.google.colaboratory.intrinsic+json": {
              "type": "string"
            }
          },
          "metadata": {}
        },
        {
          "output_type": "display_data",
          "data": {
            "text/plain": [
              "'FAC_INDIAN_CNTRY_FLG'"
            ],
            "application/vnd.google.colaboratory.intrinsic+json": {
              "type": "string"
            }
          },
          "metadata": {}
        },
        {
          "output_type": "display_data",
          "data": {
            "text/plain": [
              "'FAC_FEDERAL_FLG'"
            ],
            "application/vnd.google.colaboratory.intrinsic+json": {
              "type": "string"
            }
          },
          "metadata": {}
        },
        {
          "output_type": "display_data",
          "data": {
            "text/plain": [
              "'FAC_US_MEX_BORDER_FLG'"
            ],
            "application/vnd.google.colaboratory.intrinsic+json": {
              "type": "string"
            }
          },
          "metadata": {}
        },
        {
          "output_type": "display_data",
          "data": {
            "text/plain": [
              "'FAC_CHESAPEAKE_BAY_FLG'"
            ],
            "application/vnd.google.colaboratory.intrinsic+json": {
              "type": "string"
            }
          },
          "metadata": {}
        },
        {
          "output_type": "display_data",
          "data": {
            "text/plain": [
              "'FAC_NAA_FLAG'"
            ],
            "application/vnd.google.colaboratory.intrinsic+json": {
              "type": "string"
            }
          },
          "metadata": {}
        },
        {
          "output_type": "display_data",
          "data": {
            "text/plain": [
              "'FAC_LAT'"
            ],
            "application/vnd.google.colaboratory.intrinsic+json": {
              "type": "string"
            }
          },
          "metadata": {}
        },
        {
          "output_type": "display_data",
          "data": {
            "text/plain": [
              "'FAC_LONG'"
            ],
            "application/vnd.google.colaboratory.intrinsic+json": {
              "type": "string"
            }
          },
          "metadata": {}
        },
        {
          "output_type": "display_data",
          "data": {
            "text/plain": [
              "'FAC_MAP_ICON'"
            ],
            "application/vnd.google.colaboratory.intrinsic+json": {
              "type": "string"
            }
          },
          "metadata": {}
        },
        {
          "output_type": "display_data",
          "data": {
            "text/plain": [
              "'FAC_COLLECTION_METHOD'"
            ],
            "application/vnd.google.colaboratory.intrinsic+json": {
              "type": "string"
            }
          },
          "metadata": {}
        },
        {
          "output_type": "display_data",
          "data": {
            "text/plain": [
              "'FAC_REFERENCE_POINT'"
            ],
            "application/vnd.google.colaboratory.intrinsic+json": {
              "type": "string"
            }
          },
          "metadata": {}
        },
        {
          "output_type": "display_data",
          "data": {
            "text/plain": [
              "'FAC_ACCURACY_METERS'"
            ],
            "application/vnd.google.colaboratory.intrinsic+json": {
              "type": "string"
            }
          },
          "metadata": {}
        },
        {
          "output_type": "display_data",
          "data": {
            "text/plain": [
              "'FAC_DERIVED_TRIBES'"
            ],
            "application/vnd.google.colaboratory.intrinsic+json": {
              "type": "string"
            }
          },
          "metadata": {}
        },
        {
          "output_type": "display_data",
          "data": {
            "text/plain": [
              "'FAC_DERIVED_HUC'"
            ],
            "application/vnd.google.colaboratory.intrinsic+json": {
              "type": "string"
            }
          },
          "metadata": {}
        },
        {
          "output_type": "display_data",
          "data": {
            "text/plain": [
              "'FAC_DERIVED_WBD'"
            ],
            "application/vnd.google.colaboratory.intrinsic+json": {
              "type": "string"
            }
          },
          "metadata": {}
        },
        {
          "output_type": "display_data",
          "data": {
            "text/plain": [
              "'FAC_DERIVED_STCTY_FIPS'"
            ],
            "application/vnd.google.colaboratory.intrinsic+json": {
              "type": "string"
            }
          },
          "metadata": {}
        },
        {
          "output_type": "display_data",
          "data": {
            "text/plain": [
              "'FAC_DERIVED_ZIP'"
            ],
            "application/vnd.google.colaboratory.intrinsic+json": {
              "type": "string"
            }
          },
          "metadata": {}
        },
        {
          "output_type": "display_data",
          "data": {
            "text/plain": [
              "'FAC_DERIVED_CD113'"
            ],
            "application/vnd.google.colaboratory.intrinsic+json": {
              "type": "string"
            }
          },
          "metadata": {}
        },
        {
          "output_type": "display_data",
          "data": {
            "text/plain": [
              "'FAC_DERIVED_CB2010'"
            ],
            "application/vnd.google.colaboratory.intrinsic+json": {
              "type": "string"
            }
          },
          "metadata": {}
        },
        {
          "output_type": "display_data",
          "data": {
            "text/plain": [
              "'FAC_PERCENT_MINORITY'"
            ],
            "application/vnd.google.colaboratory.intrinsic+json": {
              "type": "string"
            }
          },
          "metadata": {}
        },
        {
          "output_type": "display_data",
          "data": {
            "text/plain": [
              "'FAC_POP_DEN'"
            ],
            "application/vnd.google.colaboratory.intrinsic+json": {
              "type": "string"
            }
          },
          "metadata": {}
        },
        {
          "output_type": "display_data",
          "data": {
            "text/plain": [
              "'FAC_MAJOR_FLAG'"
            ],
            "application/vnd.google.colaboratory.intrinsic+json": {
              "type": "string"
            }
          },
          "metadata": {}
        },
        {
          "output_type": "display_data",
          "data": {
            "text/plain": [
              "'FAC_ACTIVE_FLAG'"
            ],
            "application/vnd.google.colaboratory.intrinsic+json": {
              "type": "string"
            }
          },
          "metadata": {}
        },
        {
          "output_type": "display_data",
          "data": {
            "text/plain": [
              "'FAC_MYRTK_UNIVERSE'"
            ],
            "application/vnd.google.colaboratory.intrinsic+json": {
              "type": "string"
            }
          },
          "metadata": {}
        },
        {
          "output_type": "display_data",
          "data": {
            "text/plain": [
              "'FAC_INSPECTION_COUNT'"
            ],
            "application/vnd.google.colaboratory.intrinsic+json": {
              "type": "string"
            }
          },
          "metadata": {}
        },
        {
          "output_type": "display_data",
          "data": {
            "text/plain": [
              "'FAC_DATE_LAST_INSPECTION'"
            ],
            "application/vnd.google.colaboratory.intrinsic+json": {
              "type": "string"
            }
          },
          "metadata": {}
        },
        {
          "output_type": "display_data",
          "data": {
            "text/plain": [
              "'FAC_DAYS_LAST_INSPECTION'"
            ],
            "application/vnd.google.colaboratory.intrinsic+json": {
              "type": "string"
            }
          },
          "metadata": {}
        },
        {
          "output_type": "display_data",
          "data": {
            "text/plain": [
              "'FAC_INFORMAL_COUNT'"
            ],
            "application/vnd.google.colaboratory.intrinsic+json": {
              "type": "string"
            }
          },
          "metadata": {}
        },
        {
          "output_type": "display_data",
          "data": {
            "text/plain": [
              "'FAC_DATE_LAST_INFORMAL_ACTION'"
            ],
            "application/vnd.google.colaboratory.intrinsic+json": {
              "type": "string"
            }
          },
          "metadata": {}
        },
        {
          "output_type": "display_data",
          "data": {
            "text/plain": [
              "'FAC_FORMAL_ACTION_COUNT'"
            ],
            "application/vnd.google.colaboratory.intrinsic+json": {
              "type": "string"
            }
          },
          "metadata": {}
        },
        {
          "output_type": "display_data",
          "data": {
            "text/plain": [
              "'FAC_DATE_LAST_FORMAL_ACTION'"
            ],
            "application/vnd.google.colaboratory.intrinsic+json": {
              "type": "string"
            }
          },
          "metadata": {}
        },
        {
          "output_type": "display_data",
          "data": {
            "text/plain": [
              "'FAC_TOTAL_PENALTIES'"
            ],
            "application/vnd.google.colaboratory.intrinsic+json": {
              "type": "string"
            }
          },
          "metadata": {}
        },
        {
          "output_type": "display_data",
          "data": {
            "text/plain": [
              "'FAC_PENALTY_COUNT'"
            ],
            "application/vnd.google.colaboratory.intrinsic+json": {
              "type": "string"
            }
          },
          "metadata": {}
        },
        {
          "output_type": "display_data",
          "data": {
            "text/plain": [
              "'FAC_DATE_LAST_PENALTY'"
            ],
            "application/vnd.google.colaboratory.intrinsic+json": {
              "type": "string"
            }
          },
          "metadata": {}
        },
        {
          "output_type": "display_data",
          "data": {
            "text/plain": [
              "'FAC_LAST_PENALTY_AMT'"
            ],
            "application/vnd.google.colaboratory.intrinsic+json": {
              "type": "string"
            }
          },
          "metadata": {}
        },
        {
          "output_type": "display_data",
          "data": {
            "text/plain": [
              "'FAC_QTRS_WITH_NC'"
            ],
            "application/vnd.google.colaboratory.intrinsic+json": {
              "type": "string"
            }
          },
          "metadata": {}
        },
        {
          "output_type": "display_data",
          "data": {
            "text/plain": [
              "'FAC_PROGRAMS_WITH_SNC'"
            ],
            "application/vnd.google.colaboratory.intrinsic+json": {
              "type": "string"
            }
          },
          "metadata": {}
        },
        {
          "output_type": "display_data",
          "data": {
            "text/plain": [
              "'FAC_COMPLIANCE_STATUS'"
            ],
            "application/vnd.google.colaboratory.intrinsic+json": {
              "type": "string"
            }
          },
          "metadata": {}
        },
        {
          "output_type": "display_data",
          "data": {
            "text/plain": [
              "'FAC_SNC_FLG'"
            ],
            "application/vnd.google.colaboratory.intrinsic+json": {
              "type": "string"
            }
          },
          "metadata": {}
        },
        {
          "output_type": "display_data",
          "data": {
            "text/plain": [
              "'FAC_3YR_COMPLIANCE_HISTORY'"
            ],
            "application/vnd.google.colaboratory.intrinsic+json": {
              "type": "string"
            }
          },
          "metadata": {}
        },
        {
          "output_type": "display_data",
          "data": {
            "text/plain": [
              "'AIR_FLAG'"
            ],
            "application/vnd.google.colaboratory.intrinsic+json": {
              "type": "string"
            }
          },
          "metadata": {}
        },
        {
          "output_type": "display_data",
          "data": {
            "text/plain": [
              "'NPDES_FLAG'"
            ],
            "application/vnd.google.colaboratory.intrinsic+json": {
              "type": "string"
            }
          },
          "metadata": {}
        },
        {
          "output_type": "display_data",
          "data": {
            "text/plain": [
              "'SDWIS_FLAG'"
            ],
            "application/vnd.google.colaboratory.intrinsic+json": {
              "type": "string"
            }
          },
          "metadata": {}
        },
        {
          "output_type": "display_data",
          "data": {
            "text/plain": [
              "'RCRA_FLAG'"
            ],
            "application/vnd.google.colaboratory.intrinsic+json": {
              "type": "string"
            }
          },
          "metadata": {}
        },
        {
          "output_type": "display_data",
          "data": {
            "text/plain": [
              "'TRI_FLAG'"
            ],
            "application/vnd.google.colaboratory.intrinsic+json": {
              "type": "string"
            }
          },
          "metadata": {}
        },
        {
          "output_type": "display_data",
          "data": {
            "text/plain": [
              "'GHG_FLAG'"
            ],
            "application/vnd.google.colaboratory.intrinsic+json": {
              "type": "string"
            }
          },
          "metadata": {}
        },
        {
          "output_type": "display_data",
          "data": {
            "text/plain": [
              "'AIR_IDS'"
            ],
            "application/vnd.google.colaboratory.intrinsic+json": {
              "type": "string"
            }
          },
          "metadata": {}
        },
        {
          "output_type": "display_data",
          "data": {
            "text/plain": [
              "'CAA_PERMIT_TYPES'"
            ],
            "application/vnd.google.colaboratory.intrinsic+json": {
              "type": "string"
            }
          },
          "metadata": {}
        },
        {
          "output_type": "display_data",
          "data": {
            "text/plain": [
              "'CAA_NAICS'"
            ],
            "application/vnd.google.colaboratory.intrinsic+json": {
              "type": "string"
            }
          },
          "metadata": {}
        },
        {
          "output_type": "display_data",
          "data": {
            "text/plain": [
              "'CAA_SICS'"
            ],
            "application/vnd.google.colaboratory.intrinsic+json": {
              "type": "string"
            }
          },
          "metadata": {}
        },
        {
          "output_type": "display_data",
          "data": {
            "text/plain": [
              "'CAA_EVALUATION_COUNT'"
            ],
            "application/vnd.google.colaboratory.intrinsic+json": {
              "type": "string"
            }
          },
          "metadata": {}
        },
        {
          "output_type": "display_data",
          "data": {
            "text/plain": [
              "'CAA_DAYS_LAST_EVALUATION'"
            ],
            "application/vnd.google.colaboratory.intrinsic+json": {
              "type": "string"
            }
          },
          "metadata": {}
        },
        {
          "output_type": "display_data",
          "data": {
            "text/plain": [
              "'CAA_INFORMAL_COUNT'"
            ],
            "application/vnd.google.colaboratory.intrinsic+json": {
              "type": "string"
            }
          },
          "metadata": {}
        },
        {
          "output_type": "display_data",
          "data": {
            "text/plain": [
              "'CAA_FORMAL_ACTION_COUNT'"
            ],
            "application/vnd.google.colaboratory.intrinsic+json": {
              "type": "string"
            }
          },
          "metadata": {}
        },
        {
          "output_type": "display_data",
          "data": {
            "text/plain": [
              "'CAA_DATE_LAST_FORMAL_ACTION'"
            ],
            "application/vnd.google.colaboratory.intrinsic+json": {
              "type": "string"
            }
          },
          "metadata": {}
        },
        {
          "output_type": "display_data",
          "data": {
            "text/plain": [
              "'CAA_PENALTIES'"
            ],
            "application/vnd.google.colaboratory.intrinsic+json": {
              "type": "string"
            }
          },
          "metadata": {}
        },
        {
          "output_type": "display_data",
          "data": {
            "text/plain": [
              "'CAA_LAST_PENALTY_DATE'"
            ],
            "application/vnd.google.colaboratory.intrinsic+json": {
              "type": "string"
            }
          },
          "metadata": {}
        },
        {
          "output_type": "display_data",
          "data": {
            "text/plain": [
              "'CAA_LAST_PENALTY_AMT'"
            ],
            "application/vnd.google.colaboratory.intrinsic+json": {
              "type": "string"
            }
          },
          "metadata": {}
        },
        {
          "output_type": "display_data",
          "data": {
            "text/plain": [
              "'CAA_QTRS_WITH_NC'"
            ],
            "application/vnd.google.colaboratory.intrinsic+json": {
              "type": "string"
            }
          },
          "metadata": {}
        },
        {
          "output_type": "display_data",
          "data": {
            "text/plain": [
              "'CAA_COMPLIANCE_STATUS'"
            ],
            "application/vnd.google.colaboratory.intrinsic+json": {
              "type": "string"
            }
          },
          "metadata": {}
        },
        {
          "output_type": "display_data",
          "data": {
            "text/plain": [
              "'CAA_HPV_FLAG'"
            ],
            "application/vnd.google.colaboratory.intrinsic+json": {
              "type": "string"
            }
          },
          "metadata": {}
        },
        {
          "output_type": "display_data",
          "data": {
            "text/plain": [
              "'CAA_3YR_COMPL_QTRS_HISTORY'"
            ],
            "application/vnd.google.colaboratory.intrinsic+json": {
              "type": "string"
            }
          },
          "metadata": {}
        },
        {
          "output_type": "display_data",
          "data": {
            "text/plain": [
              "'NPDES_IDS'"
            ],
            "application/vnd.google.colaboratory.intrinsic+json": {
              "type": "string"
            }
          },
          "metadata": {}
        },
        {
          "output_type": "display_data",
          "data": {
            "text/plain": [
              "'CWA_PERMIT_TYPES'"
            ],
            "application/vnd.google.colaboratory.intrinsic+json": {
              "type": "string"
            }
          },
          "metadata": {}
        },
        {
          "output_type": "display_data",
          "data": {
            "text/plain": [
              "'CWA_COMPLIANCE_TRACKING'"
            ],
            "application/vnd.google.colaboratory.intrinsic+json": {
              "type": "string"
            }
          },
          "metadata": {}
        },
        {
          "output_type": "display_data",
          "data": {
            "text/plain": [
              "'CWA_NAICS'"
            ],
            "application/vnd.google.colaboratory.intrinsic+json": {
              "type": "string"
            }
          },
          "metadata": {}
        },
        {
          "output_type": "display_data",
          "data": {
            "text/plain": [
              "'CWA_SICS'"
            ],
            "application/vnd.google.colaboratory.intrinsic+json": {
              "type": "string"
            }
          },
          "metadata": {}
        },
        {
          "output_type": "display_data",
          "data": {
            "text/plain": [
              "'CWA_INSPECTION_COUNT'"
            ],
            "application/vnd.google.colaboratory.intrinsic+json": {
              "type": "string"
            }
          },
          "metadata": {}
        },
        {
          "output_type": "display_data",
          "data": {
            "text/plain": [
              "'CWA_DAYS_LAST_INSPECTION'"
            ],
            "application/vnd.google.colaboratory.intrinsic+json": {
              "type": "string"
            }
          },
          "metadata": {}
        },
        {
          "output_type": "display_data",
          "data": {
            "text/plain": [
              "'CWA_INFORMAL_COUNT'"
            ],
            "application/vnd.google.colaboratory.intrinsic+json": {
              "type": "string"
            }
          },
          "metadata": {}
        },
        {
          "output_type": "display_data",
          "data": {
            "text/plain": [
              "'CWA_FORMAL_ACTION_COUNT'"
            ],
            "application/vnd.google.colaboratory.intrinsic+json": {
              "type": "string"
            }
          },
          "metadata": {}
        },
        {
          "output_type": "display_data",
          "data": {
            "text/plain": [
              "'CWA_DATE_LAST_FORMAL_ACTION'"
            ],
            "application/vnd.google.colaboratory.intrinsic+json": {
              "type": "string"
            }
          },
          "metadata": {}
        },
        {
          "output_type": "display_data",
          "data": {
            "text/plain": [
              "'CWA_PENALTIES'"
            ],
            "application/vnd.google.colaboratory.intrinsic+json": {
              "type": "string"
            }
          },
          "metadata": {}
        },
        {
          "output_type": "display_data",
          "data": {
            "text/plain": [
              "'CWA_LAST_PENALTY_DATE'"
            ],
            "application/vnd.google.colaboratory.intrinsic+json": {
              "type": "string"
            }
          },
          "metadata": {}
        },
        {
          "output_type": "display_data",
          "data": {
            "text/plain": [
              "'CWA_LAST_PENALTY_AMT'"
            ],
            "application/vnd.google.colaboratory.intrinsic+json": {
              "type": "string"
            }
          },
          "metadata": {}
        },
        {
          "output_type": "display_data",
          "data": {
            "text/plain": [
              "'CWA_QTRS_WITH_NC'"
            ],
            "application/vnd.google.colaboratory.intrinsic+json": {
              "type": "string"
            }
          },
          "metadata": {}
        },
        {
          "output_type": "display_data",
          "data": {
            "text/plain": [
              "'CWA_COMPLIANCE_STATUS'"
            ],
            "application/vnd.google.colaboratory.intrinsic+json": {
              "type": "string"
            }
          },
          "metadata": {}
        },
        {
          "output_type": "display_data",
          "data": {
            "text/plain": [
              "'CWA_SNC_FLAG'"
            ],
            "application/vnd.google.colaboratory.intrinsic+json": {
              "type": "string"
            }
          },
          "metadata": {}
        },
        {
          "output_type": "display_data",
          "data": {
            "text/plain": [
              "'CWA_13QTRS_COMPL_HISTORY'"
            ],
            "application/vnd.google.colaboratory.intrinsic+json": {
              "type": "string"
            }
          },
          "metadata": {}
        },
        {
          "output_type": "display_data",
          "data": {
            "text/plain": [
              "'CWA_13QTRS_EFFLNT_EXCEEDANCES'"
            ],
            "application/vnd.google.colaboratory.intrinsic+json": {
              "type": "string"
            }
          },
          "metadata": {}
        },
        {
          "output_type": "display_data",
          "data": {
            "text/plain": [
              "'CWA_3_YR_QNCR_CODES'"
            ],
            "application/vnd.google.colaboratory.intrinsic+json": {
              "type": "string"
            }
          },
          "metadata": {}
        },
        {
          "output_type": "display_data",
          "data": {
            "text/plain": [
              "'RCRA_IDS'"
            ],
            "application/vnd.google.colaboratory.intrinsic+json": {
              "type": "string"
            }
          },
          "metadata": {}
        },
        {
          "output_type": "display_data",
          "data": {
            "text/plain": [
              "'RCRA_PERMIT_TYPES'"
            ],
            "application/vnd.google.colaboratory.intrinsic+json": {
              "type": "string"
            }
          },
          "metadata": {}
        },
        {
          "output_type": "display_data",
          "data": {
            "text/plain": [
              "'RCRA_NAICS'"
            ],
            "application/vnd.google.colaboratory.intrinsic+json": {
              "type": "string"
            }
          },
          "metadata": {}
        },
        {
          "output_type": "display_data",
          "data": {
            "text/plain": [
              "'RCRA_INSPECTION_COUNT'"
            ],
            "application/vnd.google.colaboratory.intrinsic+json": {
              "type": "string"
            }
          },
          "metadata": {}
        },
        {
          "output_type": "display_data",
          "data": {
            "text/plain": [
              "'RCRA_DAYS_LAST_EVALUATION'"
            ],
            "application/vnd.google.colaboratory.intrinsic+json": {
              "type": "string"
            }
          },
          "metadata": {}
        },
        {
          "output_type": "display_data",
          "data": {
            "text/plain": [
              "'RCRA_INFORMAL_COUNT'"
            ],
            "application/vnd.google.colaboratory.intrinsic+json": {
              "type": "string"
            }
          },
          "metadata": {}
        },
        {
          "output_type": "display_data",
          "data": {
            "text/plain": [
              "'RCRA_FORMAL_ACTION_COUNT'"
            ],
            "application/vnd.google.colaboratory.intrinsic+json": {
              "type": "string"
            }
          },
          "metadata": {}
        },
        {
          "output_type": "display_data",
          "data": {
            "text/plain": [
              "'RCRA_DATE_LAST_FORMAL_ACTION'"
            ],
            "application/vnd.google.colaboratory.intrinsic+json": {
              "type": "string"
            }
          },
          "metadata": {}
        },
        {
          "output_type": "display_data",
          "data": {
            "text/plain": [
              "'RCRA_PENALTIES'"
            ],
            "application/vnd.google.colaboratory.intrinsic+json": {
              "type": "string"
            }
          },
          "metadata": {}
        },
        {
          "output_type": "display_data",
          "data": {
            "text/plain": [
              "'RCRA_LAST_PENALTY_DATE'"
            ],
            "application/vnd.google.colaboratory.intrinsic+json": {
              "type": "string"
            }
          },
          "metadata": {}
        },
        {
          "output_type": "display_data",
          "data": {
            "text/plain": [
              "'RCRA_LAST_PENALTY_AMT'"
            ],
            "application/vnd.google.colaboratory.intrinsic+json": {
              "type": "string"
            }
          },
          "metadata": {}
        },
        {
          "output_type": "display_data",
          "data": {
            "text/plain": [
              "'RCRA_QTRS_WITH_NC'"
            ],
            "application/vnd.google.colaboratory.intrinsic+json": {
              "type": "string"
            }
          },
          "metadata": {}
        },
        {
          "output_type": "display_data",
          "data": {
            "text/plain": [
              "'RCRA_COMPLIANCE_STATUS'"
            ],
            "application/vnd.google.colaboratory.intrinsic+json": {
              "type": "string"
            }
          },
          "metadata": {}
        },
        {
          "output_type": "display_data",
          "data": {
            "text/plain": [
              "'RCRA_SNC_FLAG'"
            ],
            "application/vnd.google.colaboratory.intrinsic+json": {
              "type": "string"
            }
          },
          "metadata": {}
        },
        {
          "output_type": "display_data",
          "data": {
            "text/plain": [
              "'RCRA_3YR_COMPL_QTRS_HISTORY'"
            ],
            "application/vnd.google.colaboratory.intrinsic+json": {
              "type": "string"
            }
          },
          "metadata": {}
        },
        {
          "output_type": "display_data",
          "data": {
            "text/plain": [
              "'SDWA_IDS'"
            ],
            "application/vnd.google.colaboratory.intrinsic+json": {
              "type": "string"
            }
          },
          "metadata": {}
        },
        {
          "output_type": "display_data",
          "data": {
            "text/plain": [
              "'SDWA_SYSTEM_TYPES'"
            ],
            "application/vnd.google.colaboratory.intrinsic+json": {
              "type": "string"
            }
          },
          "metadata": {}
        },
        {
          "output_type": "display_data",
          "data": {
            "text/plain": [
              "'SDWA_INFORMAL_COUNT'"
            ],
            "application/vnd.google.colaboratory.intrinsic+json": {
              "type": "string"
            }
          },
          "metadata": {}
        },
        {
          "output_type": "display_data",
          "data": {
            "text/plain": [
              "'SDWA_FORMAL_ACTION_COUNT'"
            ],
            "application/vnd.google.colaboratory.intrinsic+json": {
              "type": "string"
            }
          },
          "metadata": {}
        },
        {
          "output_type": "display_data",
          "data": {
            "text/plain": [
              "'SDWA_COMPLIANCE_STATUS'"
            ],
            "application/vnd.google.colaboratory.intrinsic+json": {
              "type": "string"
            }
          },
          "metadata": {}
        },
        {
          "output_type": "display_data",
          "data": {
            "text/plain": [
              "'SDWA_SNC_FLAG'"
            ],
            "application/vnd.google.colaboratory.intrinsic+json": {
              "type": "string"
            }
          },
          "metadata": {}
        },
        {
          "output_type": "display_data",
          "data": {
            "text/plain": [
              "'TRI_IDS'"
            ],
            "application/vnd.google.colaboratory.intrinsic+json": {
              "type": "string"
            }
          },
          "metadata": {}
        },
        {
          "output_type": "display_data",
          "data": {
            "text/plain": [
              "'TRI_RELEASES_TRANSFERS'"
            ],
            "application/vnd.google.colaboratory.intrinsic+json": {
              "type": "string"
            }
          },
          "metadata": {}
        },
        {
          "output_type": "display_data",
          "data": {
            "text/plain": [
              "'TRI_ON_SITE_RELEASES'"
            ],
            "application/vnd.google.colaboratory.intrinsic+json": {
              "type": "string"
            }
          },
          "metadata": {}
        },
        {
          "output_type": "display_data",
          "data": {
            "text/plain": [
              "'TRI_OFF_SITE_TRANSFERS'"
            ],
            "application/vnd.google.colaboratory.intrinsic+json": {
              "type": "string"
            }
          },
          "metadata": {}
        },
        {
          "output_type": "display_data",
          "data": {
            "text/plain": [
              "'TRI_REPORTER_IN_PAST'"
            ],
            "application/vnd.google.colaboratory.intrinsic+json": {
              "type": "string"
            }
          },
          "metadata": {}
        },
        {
          "output_type": "display_data",
          "data": {
            "text/plain": [
              "'FEC_CASE_IDS'"
            ],
            "application/vnd.google.colaboratory.intrinsic+json": {
              "type": "string"
            }
          },
          "metadata": {}
        },
        {
          "output_type": "display_data",
          "data": {
            "text/plain": [
              "'FEC_NUMBER_OF_CASES'"
            ],
            "application/vnd.google.colaboratory.intrinsic+json": {
              "type": "string"
            }
          },
          "metadata": {}
        },
        {
          "output_type": "display_data",
          "data": {
            "text/plain": [
              "'FEC_LAST_CASE_DATE'"
            ],
            "application/vnd.google.colaboratory.intrinsic+json": {
              "type": "string"
            }
          },
          "metadata": {}
        },
        {
          "output_type": "display_data",
          "data": {
            "text/plain": [
              "'FEC_TOTAL_PENALTIES'"
            ],
            "application/vnd.google.colaboratory.intrinsic+json": {
              "type": "string"
            }
          },
          "metadata": {}
        },
        {
          "output_type": "display_data",
          "data": {
            "text/plain": [
              "'GHG_IDS'"
            ],
            "application/vnd.google.colaboratory.intrinsic+json": {
              "type": "string"
            }
          },
          "metadata": {}
        },
        {
          "output_type": "display_data",
          "data": {
            "text/plain": [
              "'GHG_CO2_RELEASES'"
            ],
            "application/vnd.google.colaboratory.intrinsic+json": {
              "type": "string"
            }
          },
          "metadata": {}
        },
        {
          "output_type": "display_data",
          "data": {
            "text/plain": [
              "'DFR_URL'"
            ],
            "application/vnd.google.colaboratory.intrinsic+json": {
              "type": "string"
            }
          },
          "metadata": {}
        },
        {
          "output_type": "display_data",
          "data": {
            "text/plain": [
              "'FAC_SIC_CODES'"
            ],
            "application/vnd.google.colaboratory.intrinsic+json": {
              "type": "string"
            }
          },
          "metadata": {}
        },
        {
          "output_type": "display_data",
          "data": {
            "text/plain": [
              "'FAC_NAICS_CODES'"
            ],
            "application/vnd.google.colaboratory.intrinsic+json": {
              "type": "string"
            }
          },
          "metadata": {}
        },
        {
          "output_type": "display_data",
          "data": {
            "text/plain": [
              "'FAC_DATE_LAST_INSPECTION_EPA'"
            ],
            "application/vnd.google.colaboratory.intrinsic+json": {
              "type": "string"
            }
          },
          "metadata": {}
        },
        {
          "output_type": "display_data",
          "data": {
            "text/plain": [
              "'FAC_DATE_LAST_INSPECTION_STATE'"
            ],
            "application/vnd.google.colaboratory.intrinsic+json": {
              "type": "string"
            }
          },
          "metadata": {}
        },
        {
          "output_type": "display_data",
          "data": {
            "text/plain": [
              "'FAC_DATE_LAST_FORMAL_ACT_EPA'"
            ],
            "application/vnd.google.colaboratory.intrinsic+json": {
              "type": "string"
            }
          },
          "metadata": {}
        },
        {
          "output_type": "display_data",
          "data": {
            "text/plain": [
              "'FAC_DATE_LAST_FORMAL_ACT_ST'"
            ],
            "application/vnd.google.colaboratory.intrinsic+json": {
              "type": "string"
            }
          },
          "metadata": {}
        },
        {
          "output_type": "display_data",
          "data": {
            "text/plain": [
              "'FAC_DATE_LAST_INFORMAL_ACT_EPA'"
            ],
            "application/vnd.google.colaboratory.intrinsic+json": {
              "type": "string"
            }
          },
          "metadata": {}
        },
        {
          "output_type": "display_data",
          "data": {
            "text/plain": [
              "'FAC_DATE_LAST_INFORMAL_ACT_ST'"
            ],
            "application/vnd.google.colaboratory.intrinsic+json": {
              "type": "string"
            }
          },
          "metadata": {}
        },
        {
          "output_type": "display_data",
          "data": {
            "text/plain": [
              "'FAC_FEDERAL_AGENCY'"
            ],
            "application/vnd.google.colaboratory.intrinsic+json": {
              "type": "string"
            }
          },
          "metadata": {}
        },
        {
          "output_type": "display_data",
          "data": {
            "text/plain": [
              "'TRI_REPORTER'"
            ],
            "application/vnd.google.colaboratory.intrinsic+json": {
              "type": "string"
            }
          },
          "metadata": {}
        },
        {
          "output_type": "display_data",
          "data": {
            "text/plain": [
              "'FAC_IMP_WATER_FLG'"
            ],
            "application/vnd.google.colaboratory.intrinsic+json": {
              "type": "string"
            }
          },
          "metadata": {}
        },
        {
          "output_type": "display_data",
          "data": {
            "text/plain": [
              "'EJSCREEN_FLAG_US'"
            ],
            "application/vnd.google.colaboratory.intrinsic+json": {
              "type": "string"
            }
          },
          "metadata": {}
        },
        {
          "output_type": "display_data",
          "data": {
            "text/plain": [
              "'wkb_geometry'"
            ],
            "application/vnd.google.colaboratory.intrinsic+json": {
              "type": "string"
            }
          },
          "metadata": {}
        }
      ],
      "source": [
        "# Loop through and list all the columns in this table (spreadsheet)\n",
        "for column in facilities.columns:\n",
        "  display(column)"
      ]
    },
    {
      "cell_type": "markdown",
      "source": [
        "How we do know what each of these columns mean / what kind of data are recorded in the table? The metadata are available in a spreadsheet here on the EPA's website: https://echo.epa.gov/system/files/echo_exporter_columns_07242019.xlsx"
      ],
      "metadata": {
        "id": "KJDVzvDI9rKP"
      }
    },
    {
      "cell_type": "code",
      "execution_count": 4,
      "metadata": {
        "id": "UCM2jZz5bo3v",
        "outputId": "3dc9481a-2cb7-4bdd-d5bb-25614d3ea611",
        "colab": {
          "base_uri": "https://localhost:8080/",
          "height": 450
        }
      },
      "outputs": [
        {
          "output_type": "execute_result",
          "data": {
            "text/plain": [
              "       REGISTRY_ID                                           FAC_NAME  \\\n",
              "2470  1.100705e+11  HALO RENTAL SALES & SERVICES LLC - AIR CURTAIN...   \n",
              "4971  1.100033e+11                    EXXONMOBIL BATON ROUGE TERMINAL   \n",
              "4974  1.100006e+11                         FORMOSA PLASTICS LOUISIANA   \n",
              "4975  1.100090e+11                         FUTURE PIPE INDUSTRIES INC   \n",
              "\n",
              "               FAC_STREET     FAC_CITY FAC_STATE  FAC_ZIP  \\\n",
              "2470       12093 RIVER RD  BATON ROUGE        LA    70820   \n",
              "4971  3329 SCENIC HIGHWAY  BATON ROUGE        LA    70805   \n",
              "4974     GULF STATES ROAD  BATON ROUGE        LA    70805   \n",
              "4975     15915 PERKINS RD  BATON ROUGE        LA    70810   \n",
              "\n",
              "                   FAC_COUNTY  FAC_FIPS_CODE  FAC_EPA_REGION  \\\n",
              "2470  EAST BATON ROUGE PARISH        22033.0             6.0   \n",
              "4971  EAST BATON ROUGE PARISH        22033.0             6.0   \n",
              "4974         EAST BATON ROUGE        22033.0             6.0   \n",
              "4975         EAST BATON ROUGE        22033.0             6.0   \n",
              "\n",
              "     FAC_INDIAN_CNTRY_FLG  ... FAC_DATE_LAST_INSPECTION_STATE  \\\n",
              "2470                    N  ...                     08/05/2021   \n",
              "4971                    N  ...                     06/13/2024   \n",
              "4974                    N  ...                     06/05/2024   \n",
              "4975                    N  ...                     05/10/2022   \n",
              "\n",
              "     FAC_DATE_LAST_FORMAL_ACT_EPA  FAC_DATE_LAST_FORMAL_ACT_ST  \\\n",
              "2470                          NaN                   05/31/2023   \n",
              "4971                   08/25/2011                   09/30/2021   \n",
              "4974                   02/07/2017                   03/24/2021   \n",
              "4975                   09/28/2020                   07/15/2024   \n",
              "\n",
              "     FAC_DATE_LAST_INFORMAL_ACT_EPA  FAC_DATE_LAST_INFORMAL_ACT_ST  \\\n",
              "2470                            NaN                     06/05/2023   \n",
              "4971                            NaN                     07/20/2022   \n",
              "4974                     06/07/1999                     08/02/2024   \n",
              "4975                            NaN                     06/20/2023   \n",
              "\n",
              "      FAC_FEDERAL_AGENCY TRI_REPORTER FAC_IMP_WATER_FLG EJSCREEN_FLAG_US  \\\n",
              "2470                 NaN          NaN               NaN                N   \n",
              "4971                 NaN          NaN               NaN                Y   \n",
              "4974                 NaN            Y                 Y                Y   \n",
              "4975                 NaN            Y                 Y                Y   \n",
              "\n",
              "                                           wkb_geometry  \n",
              "2470  0101000020AD10000087C43D963ECC56C0184339D1AE5A...  \n",
              "4971  0101000020AD100000F7C77BD5CACA56C0350C1F11537A...  \n",
              "4974  0101000020AD1000006E35EB8CEFCB56C08CB96B09F980...  \n",
              "4975  0101000020AD1000005053CBD6FAC256C06C04E275FD5A...  \n",
              "\n",
              "[4 rows x 135 columns]"
            ],
            "text/html": [
              "\n",
              "  <div id=\"df-85d8a157-af59-44f5-b131-baf8f6aa88c4\" class=\"colab-df-container\">\n",
              "    <div>\n",
              "<style scoped>\n",
              "    .dataframe tbody tr th:only-of-type {\n",
              "        vertical-align: middle;\n",
              "    }\n",
              "\n",
              "    .dataframe tbody tr th {\n",
              "        vertical-align: top;\n",
              "    }\n",
              "\n",
              "    .dataframe thead th {\n",
              "        text-align: right;\n",
              "    }\n",
              "</style>\n",
              "<table border=\"1\" class=\"dataframe\">\n",
              "  <thead>\n",
              "    <tr style=\"text-align: right;\">\n",
              "      <th></th>\n",
              "      <th>REGISTRY_ID</th>\n",
              "      <th>FAC_NAME</th>\n",
              "      <th>FAC_STREET</th>\n",
              "      <th>FAC_CITY</th>\n",
              "      <th>FAC_STATE</th>\n",
              "      <th>FAC_ZIP</th>\n",
              "      <th>FAC_COUNTY</th>\n",
              "      <th>FAC_FIPS_CODE</th>\n",
              "      <th>FAC_EPA_REGION</th>\n",
              "      <th>FAC_INDIAN_CNTRY_FLG</th>\n",
              "      <th>...</th>\n",
              "      <th>FAC_DATE_LAST_INSPECTION_STATE</th>\n",
              "      <th>FAC_DATE_LAST_FORMAL_ACT_EPA</th>\n",
              "      <th>FAC_DATE_LAST_FORMAL_ACT_ST</th>\n",
              "      <th>FAC_DATE_LAST_INFORMAL_ACT_EPA</th>\n",
              "      <th>FAC_DATE_LAST_INFORMAL_ACT_ST</th>\n",
              "      <th>FAC_FEDERAL_AGENCY</th>\n",
              "      <th>TRI_REPORTER</th>\n",
              "      <th>FAC_IMP_WATER_FLG</th>\n",
              "      <th>EJSCREEN_FLAG_US</th>\n",
              "      <th>wkb_geometry</th>\n",
              "    </tr>\n",
              "  </thead>\n",
              "  <tbody>\n",
              "    <tr>\n",
              "      <th>2470</th>\n",
              "      <td>1.100705e+11</td>\n",
              "      <td>HALO RENTAL SALES &amp; SERVICES LLC - AIR CURTAIN...</td>\n",
              "      <td>12093 RIVER RD</td>\n",
              "      <td>BATON ROUGE</td>\n",
              "      <td>LA</td>\n",
              "      <td>70820</td>\n",
              "      <td>EAST BATON ROUGE PARISH</td>\n",
              "      <td>22033.0</td>\n",
              "      <td>6.0</td>\n",
              "      <td>N</td>\n",
              "      <td>...</td>\n",
              "      <td>08/05/2021</td>\n",
              "      <td>NaN</td>\n",
              "      <td>05/31/2023</td>\n",
              "      <td>NaN</td>\n",
              "      <td>06/05/2023</td>\n",
              "      <td>NaN</td>\n",
              "      <td>NaN</td>\n",
              "      <td>NaN</td>\n",
              "      <td>N</td>\n",
              "      <td>0101000020AD10000087C43D963ECC56C0184339D1AE5A...</td>\n",
              "    </tr>\n",
              "    <tr>\n",
              "      <th>4971</th>\n",
              "      <td>1.100033e+11</td>\n",
              "      <td>EXXONMOBIL BATON ROUGE TERMINAL</td>\n",
              "      <td>3329 SCENIC HIGHWAY</td>\n",
              "      <td>BATON ROUGE</td>\n",
              "      <td>LA</td>\n",
              "      <td>70805</td>\n",
              "      <td>EAST BATON ROUGE PARISH</td>\n",
              "      <td>22033.0</td>\n",
              "      <td>6.0</td>\n",
              "      <td>N</td>\n",
              "      <td>...</td>\n",
              "      <td>06/13/2024</td>\n",
              "      <td>08/25/2011</td>\n",
              "      <td>09/30/2021</td>\n",
              "      <td>NaN</td>\n",
              "      <td>07/20/2022</td>\n",
              "      <td>NaN</td>\n",
              "      <td>NaN</td>\n",
              "      <td>NaN</td>\n",
              "      <td>Y</td>\n",
              "      <td>0101000020AD100000F7C77BD5CACA56C0350C1F11537A...</td>\n",
              "    </tr>\n",
              "    <tr>\n",
              "      <th>4974</th>\n",
              "      <td>1.100006e+11</td>\n",
              "      <td>FORMOSA PLASTICS LOUISIANA</td>\n",
              "      <td>GULF STATES ROAD</td>\n",
              "      <td>BATON ROUGE</td>\n",
              "      <td>LA</td>\n",
              "      <td>70805</td>\n",
              "      <td>EAST BATON ROUGE</td>\n",
              "      <td>22033.0</td>\n",
              "      <td>6.0</td>\n",
              "      <td>N</td>\n",
              "      <td>...</td>\n",
              "      <td>06/05/2024</td>\n",
              "      <td>02/07/2017</td>\n",
              "      <td>03/24/2021</td>\n",
              "      <td>06/07/1999</td>\n",
              "      <td>08/02/2024</td>\n",
              "      <td>NaN</td>\n",
              "      <td>Y</td>\n",
              "      <td>Y</td>\n",
              "      <td>Y</td>\n",
              "      <td>0101000020AD1000006E35EB8CEFCB56C08CB96B09F980...</td>\n",
              "    </tr>\n",
              "    <tr>\n",
              "      <th>4975</th>\n",
              "      <td>1.100090e+11</td>\n",
              "      <td>FUTURE PIPE INDUSTRIES INC</td>\n",
              "      <td>15915 PERKINS RD</td>\n",
              "      <td>BATON ROUGE</td>\n",
              "      <td>LA</td>\n",
              "      <td>70810</td>\n",
              "      <td>EAST BATON ROUGE</td>\n",
              "      <td>22033.0</td>\n",
              "      <td>6.0</td>\n",
              "      <td>N</td>\n",
              "      <td>...</td>\n",
              "      <td>05/10/2022</td>\n",
              "      <td>09/28/2020</td>\n",
              "      <td>07/15/2024</td>\n",
              "      <td>NaN</td>\n",
              "      <td>06/20/2023</td>\n",
              "      <td>NaN</td>\n",
              "      <td>Y</td>\n",
              "      <td>Y</td>\n",
              "      <td>Y</td>\n",
              "      <td>0101000020AD1000005053CBD6FAC256C06C04E275FD5A...</td>\n",
              "    </tr>\n",
              "  </tbody>\n",
              "</table>\n",
              "<p>4 rows × 135 columns</p>\n",
              "</div>\n",
              "    <div class=\"colab-df-buttons\">\n",
              "\n",
              "  <div class=\"colab-df-container\">\n",
              "    <button class=\"colab-df-convert\" onclick=\"convertToInteractive('df-85d8a157-af59-44f5-b131-baf8f6aa88c4')\"\n",
              "            title=\"Convert this dataframe to an interactive table.\"\n",
              "            style=\"display:none;\">\n",
              "\n",
              "  <svg xmlns=\"http://www.w3.org/2000/svg\" height=\"24px\" viewBox=\"0 -960 960 960\">\n",
              "    <path d=\"M120-120v-720h720v720H120Zm60-500h600v-160H180v160Zm220 220h160v-160H400v160Zm0 220h160v-160H400v160ZM180-400h160v-160H180v160Zm440 0h160v-160H620v160ZM180-180h160v-160H180v160Zm440 0h160v-160H620v160Z\"/>\n",
              "  </svg>\n",
              "    </button>\n",
              "\n",
              "  <style>\n",
              "    .colab-df-container {\n",
              "      display:flex;\n",
              "      gap: 12px;\n",
              "    }\n",
              "\n",
              "    .colab-df-convert {\n",
              "      background-color: #E8F0FE;\n",
              "      border: none;\n",
              "      border-radius: 50%;\n",
              "      cursor: pointer;\n",
              "      display: none;\n",
              "      fill: #1967D2;\n",
              "      height: 32px;\n",
              "      padding: 0 0 0 0;\n",
              "      width: 32px;\n",
              "    }\n",
              "\n",
              "    .colab-df-convert:hover {\n",
              "      background-color: #E2EBFA;\n",
              "      box-shadow: 0px 1px 2px rgba(60, 64, 67, 0.3), 0px 1px 3px 1px rgba(60, 64, 67, 0.15);\n",
              "      fill: #174EA6;\n",
              "    }\n",
              "\n",
              "    .colab-df-buttons div {\n",
              "      margin-bottom: 4px;\n",
              "    }\n",
              "\n",
              "    [theme=dark] .colab-df-convert {\n",
              "      background-color: #3B4455;\n",
              "      fill: #D2E3FC;\n",
              "    }\n",
              "\n",
              "    [theme=dark] .colab-df-convert:hover {\n",
              "      background-color: #434B5C;\n",
              "      box-shadow: 0px 1px 3px 1px rgba(0, 0, 0, 0.15);\n",
              "      filter: drop-shadow(0px 1px 2px rgba(0, 0, 0, 0.3));\n",
              "      fill: #FFFFFF;\n",
              "    }\n",
              "  </style>\n",
              "\n",
              "    <script>\n",
              "      const buttonEl =\n",
              "        document.querySelector('#df-85d8a157-af59-44f5-b131-baf8f6aa88c4 button.colab-df-convert');\n",
              "      buttonEl.style.display =\n",
              "        google.colab.kernel.accessAllowed ? 'block' : 'none';\n",
              "\n",
              "      async function convertToInteractive(key) {\n",
              "        const element = document.querySelector('#df-85d8a157-af59-44f5-b131-baf8f6aa88c4');\n",
              "        const dataTable =\n",
              "          await google.colab.kernel.invokeFunction('convertToInteractive',\n",
              "                                                    [key], {});\n",
              "        if (!dataTable) return;\n",
              "\n",
              "        const docLinkHtml = 'Like what you see? Visit the ' +\n",
              "          '<a target=\"_blank\" href=https://colab.research.google.com/notebooks/data_table.ipynb>data table notebook</a>'\n",
              "          + ' to learn more about interactive tables.';\n",
              "        element.innerHTML = '';\n",
              "        dataTable['output_type'] = 'display_data';\n",
              "        await google.colab.output.renderOutput(dataTable, element);\n",
              "        const docLink = document.createElement('div');\n",
              "        docLink.innerHTML = docLinkHtml;\n",
              "        element.appendChild(docLink);\n",
              "      }\n",
              "    </script>\n",
              "  </div>\n",
              "\n",
              "\n",
              "<div id=\"df-abad0f93-16cc-4913-8d20-19fab892c6ab\">\n",
              "  <button class=\"colab-df-quickchart\" onclick=\"quickchart('df-abad0f93-16cc-4913-8d20-19fab892c6ab')\"\n",
              "            title=\"Suggest charts\"\n",
              "            style=\"display:none;\">\n",
              "\n",
              "<svg xmlns=\"http://www.w3.org/2000/svg\" height=\"24px\"viewBox=\"0 0 24 24\"\n",
              "     width=\"24px\">\n",
              "    <g>\n",
              "        <path d=\"M19 3H5c-1.1 0-2 .9-2 2v14c0 1.1.9 2 2 2h14c1.1 0 2-.9 2-2V5c0-1.1-.9-2-2-2zM9 17H7v-7h2v7zm4 0h-2V7h2v10zm4 0h-2v-4h2v4z\"/>\n",
              "    </g>\n",
              "</svg>\n",
              "  </button>\n",
              "\n",
              "<style>\n",
              "  .colab-df-quickchart {\n",
              "      --bg-color: #E8F0FE;\n",
              "      --fill-color: #1967D2;\n",
              "      --hover-bg-color: #E2EBFA;\n",
              "      --hover-fill-color: #174EA6;\n",
              "      --disabled-fill-color: #AAA;\n",
              "      --disabled-bg-color: #DDD;\n",
              "  }\n",
              "\n",
              "  [theme=dark] .colab-df-quickchart {\n",
              "      --bg-color: #3B4455;\n",
              "      --fill-color: #D2E3FC;\n",
              "      --hover-bg-color: #434B5C;\n",
              "      --hover-fill-color: #FFFFFF;\n",
              "      --disabled-bg-color: #3B4455;\n",
              "      --disabled-fill-color: #666;\n",
              "  }\n",
              "\n",
              "  .colab-df-quickchart {\n",
              "    background-color: var(--bg-color);\n",
              "    border: none;\n",
              "    border-radius: 50%;\n",
              "    cursor: pointer;\n",
              "    display: none;\n",
              "    fill: var(--fill-color);\n",
              "    height: 32px;\n",
              "    padding: 0;\n",
              "    width: 32px;\n",
              "  }\n",
              "\n",
              "  .colab-df-quickchart:hover {\n",
              "    background-color: var(--hover-bg-color);\n",
              "    box-shadow: 0 1px 2px rgba(60, 64, 67, 0.3), 0 1px 3px 1px rgba(60, 64, 67, 0.15);\n",
              "    fill: var(--button-hover-fill-color);\n",
              "  }\n",
              "\n",
              "  .colab-df-quickchart-complete:disabled,\n",
              "  .colab-df-quickchart-complete:disabled:hover {\n",
              "    background-color: var(--disabled-bg-color);\n",
              "    fill: var(--disabled-fill-color);\n",
              "    box-shadow: none;\n",
              "  }\n",
              "\n",
              "  .colab-df-spinner {\n",
              "    border: 2px solid var(--fill-color);\n",
              "    border-color: transparent;\n",
              "    border-bottom-color: var(--fill-color);\n",
              "    animation:\n",
              "      spin 1s steps(1) infinite;\n",
              "  }\n",
              "\n",
              "  @keyframes spin {\n",
              "    0% {\n",
              "      border-color: transparent;\n",
              "      border-bottom-color: var(--fill-color);\n",
              "      border-left-color: var(--fill-color);\n",
              "    }\n",
              "    20% {\n",
              "      border-color: transparent;\n",
              "      border-left-color: var(--fill-color);\n",
              "      border-top-color: var(--fill-color);\n",
              "    }\n",
              "    30% {\n",
              "      border-color: transparent;\n",
              "      border-left-color: var(--fill-color);\n",
              "      border-top-color: var(--fill-color);\n",
              "      border-right-color: var(--fill-color);\n",
              "    }\n",
              "    40% {\n",
              "      border-color: transparent;\n",
              "      border-right-color: var(--fill-color);\n",
              "      border-top-color: var(--fill-color);\n",
              "    }\n",
              "    60% {\n",
              "      border-color: transparent;\n",
              "      border-right-color: var(--fill-color);\n",
              "    }\n",
              "    80% {\n",
              "      border-color: transparent;\n",
              "      border-right-color: var(--fill-color);\n",
              "      border-bottom-color: var(--fill-color);\n",
              "    }\n",
              "    90% {\n",
              "      border-color: transparent;\n",
              "      border-bottom-color: var(--fill-color);\n",
              "    }\n",
              "  }\n",
              "</style>\n",
              "\n",
              "  <script>\n",
              "    async function quickchart(key) {\n",
              "      const quickchartButtonEl =\n",
              "        document.querySelector('#' + key + ' button');\n",
              "      quickchartButtonEl.disabled = true;  // To prevent multiple clicks.\n",
              "      quickchartButtonEl.classList.add('colab-df-spinner');\n",
              "      try {\n",
              "        const charts = await google.colab.kernel.invokeFunction(\n",
              "            'suggestCharts', [key], {});\n",
              "      } catch (error) {\n",
              "        console.error('Error during call to suggestCharts:', error);\n",
              "      }\n",
              "      quickchartButtonEl.classList.remove('colab-df-spinner');\n",
              "      quickchartButtonEl.classList.add('colab-df-quickchart-complete');\n",
              "    }\n",
              "    (() => {\n",
              "      let quickchartButtonEl =\n",
              "        document.querySelector('#df-abad0f93-16cc-4913-8d20-19fab892c6ab button');\n",
              "      quickchartButtonEl.style.display =\n",
              "        google.colab.kernel.accessAllowed ? 'block' : 'none';\n",
              "    })();\n",
              "  </script>\n",
              "</div>\n",
              "\n",
              "  <div id=\"id_a9934be5-735e-4a03-ab6c-b88d244dc23f\">\n",
              "    <style>\n",
              "      .colab-df-generate {\n",
              "        background-color: #E8F0FE;\n",
              "        border: none;\n",
              "        border-radius: 50%;\n",
              "        cursor: pointer;\n",
              "        display: none;\n",
              "        fill: #1967D2;\n",
              "        height: 32px;\n",
              "        padding: 0 0 0 0;\n",
              "        width: 32px;\n",
              "      }\n",
              "\n",
              "      .colab-df-generate:hover {\n",
              "        background-color: #E2EBFA;\n",
              "        box-shadow: 0px 1px 2px rgba(60, 64, 67, 0.3), 0px 1px 3px 1px rgba(60, 64, 67, 0.15);\n",
              "        fill: #174EA6;\n",
              "      }\n",
              "\n",
              "      [theme=dark] .colab-df-generate {\n",
              "        background-color: #3B4455;\n",
              "        fill: #D2E3FC;\n",
              "      }\n",
              "\n",
              "      [theme=dark] .colab-df-generate:hover {\n",
              "        background-color: #434B5C;\n",
              "        box-shadow: 0px 1px 3px 1px rgba(0, 0, 0, 0.15);\n",
              "        filter: drop-shadow(0px 1px 2px rgba(0, 0, 0, 0.3));\n",
              "        fill: #FFFFFF;\n",
              "      }\n",
              "    </style>\n",
              "    <button class=\"colab-df-generate\" onclick=\"generateWithVariable('hpvs')\"\n",
              "            title=\"Generate code using this dataframe.\"\n",
              "            style=\"display:none;\">\n",
              "\n",
              "  <svg xmlns=\"http://www.w3.org/2000/svg\" height=\"24px\"viewBox=\"0 0 24 24\"\n",
              "       width=\"24px\">\n",
              "    <path d=\"M7,19H8.4L18.45,9,17,7.55,7,17.6ZM5,21V16.75L18.45,3.32a2,2,0,0,1,2.83,0l1.4,1.43a1.91,1.91,0,0,1,.58,1.4,1.91,1.91,0,0,1-.58,1.4L9.25,21ZM18.45,9,17,7.55Zm-12,3A5.31,5.31,0,0,0,4.9,8.1,5.31,5.31,0,0,0,1,6.5,5.31,5.31,0,0,0,4.9,4.9,5.31,5.31,0,0,0,6.5,1,5.31,5.31,0,0,0,8.1,4.9,5.31,5.31,0,0,0,12,6.5,5.46,5.46,0,0,0,6.5,12Z\"/>\n",
              "  </svg>\n",
              "    </button>\n",
              "    <script>\n",
              "      (() => {\n",
              "      const buttonEl =\n",
              "        document.querySelector('#id_a9934be5-735e-4a03-ab6c-b88d244dc23f button.colab-df-generate');\n",
              "      buttonEl.style.display =\n",
              "        google.colab.kernel.accessAllowed ? 'block' : 'none';\n",
              "\n",
              "      buttonEl.onclick = () => {\n",
              "        google.colab.notebook.generateWithVariable('hpvs');\n",
              "      }\n",
              "      })();\n",
              "    </script>\n",
              "  </div>\n",
              "\n",
              "    </div>\n",
              "  </div>\n"
            ],
            "application/vnd.google.colaboratory.intrinsic+json": {
              "type": "dataframe",
              "variable_name": "hpvs"
            }
          },
          "metadata": {},
          "execution_count": 4
        }
      ],
      "source": [
        "# Show facilities \"flagged\" or regulated as High Priority Violators (HPVs) under the CAA (Clean Air Act)\n",
        "hpvs = facilities.loc[facilities['CAA_HPV_FLAG'] == 'Y']\n",
        "hpvs # Display the facilities\n",
        "# In this case, we have created a new variable `hpvs` to store just the facilities that are HPVs under the CAA\n",
        "# This allows us to work just with this sliver of the data in later cells."
      ]
    },
    {
      "cell_type": "code",
      "execution_count": 5,
      "metadata": {
        "id": "P9wdzotJcAnf",
        "outputId": "472bc198-bdcc-4211-faa4-202dbe867eb9",
        "colab": {
          "base_uri": "https://localhost:8080/",
          "height": 210
        }
      },
      "outputs": [
        {
          "output_type": "execute_result",
          "data": {
            "text/plain": [
              "2470    562213\n",
              "4971    424710\n",
              "4974    325211\n",
              "4975    326122\n",
              "Name: CAA_NAICS, dtype: object"
            ],
            "text/html": [
              "<div>\n",
              "<style scoped>\n",
              "    .dataframe tbody tr th:only-of-type {\n",
              "        vertical-align: middle;\n",
              "    }\n",
              "\n",
              "    .dataframe tbody tr th {\n",
              "        vertical-align: top;\n",
              "    }\n",
              "\n",
              "    .dataframe thead th {\n",
              "        text-align: right;\n",
              "    }\n",
              "</style>\n",
              "<table border=\"1\" class=\"dataframe\">\n",
              "  <thead>\n",
              "    <tr style=\"text-align: right;\">\n",
              "      <th></th>\n",
              "      <th>CAA_NAICS</th>\n",
              "    </tr>\n",
              "  </thead>\n",
              "  <tbody>\n",
              "    <tr>\n",
              "      <th>2470</th>\n",
              "      <td>562213</td>\n",
              "    </tr>\n",
              "    <tr>\n",
              "      <th>4971</th>\n",
              "      <td>424710</td>\n",
              "    </tr>\n",
              "    <tr>\n",
              "      <th>4974</th>\n",
              "      <td>325211</td>\n",
              "    </tr>\n",
              "    <tr>\n",
              "      <th>4975</th>\n",
              "      <td>326122</td>\n",
              "    </tr>\n",
              "  </tbody>\n",
              "</table>\n",
              "</div><br><label><b>dtype:</b> object</label>"
            ]
          },
          "metadata": {},
          "execution_count": 5
        }
      ],
      "source": [
        "# Show the NAICS/SIC codes associated with the HPVs.\n",
        "# These describe what industry each facility is associated with.\n",
        "hpvs['CAA_NAICS']\n",
        "# As you can see, some of them have multiple codes..."
      ]
    },
    {
      "cell_type": "code",
      "execution_count": 6,
      "metadata": {
        "id": "0spXJLUycZjt",
        "outputId": "dc61fccd-4e7a-40ee-8841-2cc24478effa",
        "colab": {
          "base_uri": "https://localhost:8080/",
          "height": 547
        }
      },
      "outputs": [
        {
          "output_type": "execute_result",
          "data": {
            "text/plain": [
              "       REGISTRY_ID                                FAC_NAME  \\\n",
              "3394  1.100090e+11                DUPRE LOGISTICS TERMINAL   \n",
              "3518  1.100013e+11    FONTENOT PETROLEUM CO - BULK STATION   \n",
              "3547  1.100074e+11  HOME OIL CO INC - BATON ROUGE FACILITY   \n",
              "3561  1.100013e+11                       WAGUESPACK OIL CO   \n",
              "4971  1.100033e+11         EXXONMOBIL BATON ROUGE TERMINAL   \n",
              "4977  1.100337e+11                    ERGON OIL PURCHASING   \n",
              "\n",
              "               FAC_STREET     FAC_CITY FAC_STATE  FAC_ZIP  \\\n",
              "3394     1115 MENGEL ROAD  BATON ROUGE        LA    70807   \n",
              "3518     5334 AIRLINE HWY  BATON ROUGE        LA    70805   \n",
              "3547        1515 RIVER RD  BATON ROUGE        LA    70802   \n",
              "3561    12131 AIRLINE HWY  BATON ROUGE        LA    70817   \n",
              "4971  3329 SCENIC HIGHWAY  BATON ROUGE        LA    70805   \n",
              "4977      390 W THOMAS RD  BATON ROUGE        LA    70807   \n",
              "\n",
              "                   FAC_COUNTY  FAC_FIPS_CODE  FAC_EPA_REGION  \\\n",
              "3394         EAST BATON ROUGE        22033.0             6.0   \n",
              "3518         EAST BATON ROUGE        22033.0             6.0   \n",
              "3547         EAST BATON ROUGE        22033.0             6.0   \n",
              "3561         EAST BATON ROUGE        22033.0             6.0   \n",
              "4971  EAST BATON ROUGE PARISH        22033.0             6.0   \n",
              "4977         EAST BATON ROUGE        22033.0             6.0   \n",
              "\n",
              "     FAC_INDIAN_CNTRY_FLG  ... FAC_DATE_LAST_INSPECTION_STATE  \\\n",
              "3394                    N  ...                     06/15/1995   \n",
              "3518                    N  ...                            NaN   \n",
              "3547                    N  ...                     12/13/2005   \n",
              "3561                    N  ...                            NaN   \n",
              "4971                    N  ...                     06/13/2024   \n",
              "4977                    N  ...                     05/18/2022   \n",
              "\n",
              "     FAC_DATE_LAST_FORMAL_ACT_EPA  FAC_DATE_LAST_FORMAL_ACT_ST  \\\n",
              "3394                          NaN                          NaN   \n",
              "3518                          NaN                   07/25/2005   \n",
              "3547                          NaN                          NaN   \n",
              "3561                          NaN                   07/13/2004   \n",
              "4971                   08/25/2011                   09/30/2021   \n",
              "4977                   05/03/2022                   02/29/2012   \n",
              "\n",
              "     FAC_DATE_LAST_INFORMAL_ACT_EPA  FAC_DATE_LAST_INFORMAL_ACT_ST  \\\n",
              "3394                            NaN                            NaN   \n",
              "3518                            NaN                            NaN   \n",
              "3547                            NaN                            NaN   \n",
              "3561                            NaN                            NaN   \n",
              "4971                            NaN                     07/20/2022   \n",
              "4977                            NaN                     05/07/2020   \n",
              "\n",
              "      FAC_FEDERAL_AGENCY TRI_REPORTER FAC_IMP_WATER_FLG EJSCREEN_FLAG_US  \\\n",
              "3394                 NaN          NaN                 Y                Y   \n",
              "3518                 NaN          NaN               NaN                Y   \n",
              "3547                 NaN          NaN                 Y                Y   \n",
              "3561                 NaN          NaN               NaN                Y   \n",
              "4971                 NaN          NaN               NaN                Y   \n",
              "4977                 NaN          NaN                 Y                Y   \n",
              "\n",
              "                                           wkb_geometry  \n",
              "3394  0101000020AD10000042D0D1AA96CB56C0670B08AD8783...  \n",
              "3518  0101000020AD100000904946CEC2C856C02766BD18CA81...  \n",
              "3547  0101000020AD100000D174763238CC56C03B70CE88D26E...  \n",
              "3561  0101000020AD1000001E166A4DF3C256C016359886E163...  \n",
              "4971  0101000020AD100000F7C77BD5CACA56C0350C1F11537A...  \n",
              "4977  0101000020AD100000F7E461A1D6CC56C0CC7A3194138D...  \n",
              "\n",
              "[6 rows x 135 columns]"
            ],
            "text/html": [
              "\n",
              "  <div id=\"df-69485d4a-6810-4043-a0cb-25636c9ef483\" class=\"colab-df-container\">\n",
              "    <div>\n",
              "<style scoped>\n",
              "    .dataframe tbody tr th:only-of-type {\n",
              "        vertical-align: middle;\n",
              "    }\n",
              "\n",
              "    .dataframe tbody tr th {\n",
              "        vertical-align: top;\n",
              "    }\n",
              "\n",
              "    .dataframe thead th {\n",
              "        text-align: right;\n",
              "    }\n",
              "</style>\n",
              "<table border=\"1\" class=\"dataframe\">\n",
              "  <thead>\n",
              "    <tr style=\"text-align: right;\">\n",
              "      <th></th>\n",
              "      <th>REGISTRY_ID</th>\n",
              "      <th>FAC_NAME</th>\n",
              "      <th>FAC_STREET</th>\n",
              "      <th>FAC_CITY</th>\n",
              "      <th>FAC_STATE</th>\n",
              "      <th>FAC_ZIP</th>\n",
              "      <th>FAC_COUNTY</th>\n",
              "      <th>FAC_FIPS_CODE</th>\n",
              "      <th>FAC_EPA_REGION</th>\n",
              "      <th>FAC_INDIAN_CNTRY_FLG</th>\n",
              "      <th>...</th>\n",
              "      <th>FAC_DATE_LAST_INSPECTION_STATE</th>\n",
              "      <th>FAC_DATE_LAST_FORMAL_ACT_EPA</th>\n",
              "      <th>FAC_DATE_LAST_FORMAL_ACT_ST</th>\n",
              "      <th>FAC_DATE_LAST_INFORMAL_ACT_EPA</th>\n",
              "      <th>FAC_DATE_LAST_INFORMAL_ACT_ST</th>\n",
              "      <th>FAC_FEDERAL_AGENCY</th>\n",
              "      <th>TRI_REPORTER</th>\n",
              "      <th>FAC_IMP_WATER_FLG</th>\n",
              "      <th>EJSCREEN_FLAG_US</th>\n",
              "      <th>wkb_geometry</th>\n",
              "    </tr>\n",
              "  </thead>\n",
              "  <tbody>\n",
              "    <tr>\n",
              "      <th>3394</th>\n",
              "      <td>1.100090e+11</td>\n",
              "      <td>DUPRE LOGISTICS TERMINAL</td>\n",
              "      <td>1115 MENGEL ROAD</td>\n",
              "      <td>BATON ROUGE</td>\n",
              "      <td>LA</td>\n",
              "      <td>70807</td>\n",
              "      <td>EAST BATON ROUGE</td>\n",
              "      <td>22033.0</td>\n",
              "      <td>6.0</td>\n",
              "      <td>N</td>\n",
              "      <td>...</td>\n",
              "      <td>06/15/1995</td>\n",
              "      <td>NaN</td>\n",
              "      <td>NaN</td>\n",
              "      <td>NaN</td>\n",
              "      <td>NaN</td>\n",
              "      <td>NaN</td>\n",
              "      <td>NaN</td>\n",
              "      <td>Y</td>\n",
              "      <td>Y</td>\n",
              "      <td>0101000020AD10000042D0D1AA96CB56C0670B08AD8783...</td>\n",
              "    </tr>\n",
              "    <tr>\n",
              "      <th>3518</th>\n",
              "      <td>1.100013e+11</td>\n",
              "      <td>FONTENOT PETROLEUM CO - BULK STATION</td>\n",
              "      <td>5334 AIRLINE HWY</td>\n",
              "      <td>BATON ROUGE</td>\n",
              "      <td>LA</td>\n",
              "      <td>70805</td>\n",
              "      <td>EAST BATON ROUGE</td>\n",
              "      <td>22033.0</td>\n",
              "      <td>6.0</td>\n",
              "      <td>N</td>\n",
              "      <td>...</td>\n",
              "      <td>NaN</td>\n",
              "      <td>NaN</td>\n",
              "      <td>07/25/2005</td>\n",
              "      <td>NaN</td>\n",
              "      <td>NaN</td>\n",
              "      <td>NaN</td>\n",
              "      <td>NaN</td>\n",
              "      <td>NaN</td>\n",
              "      <td>Y</td>\n",
              "      <td>0101000020AD100000904946CEC2C856C02766BD18CA81...</td>\n",
              "    </tr>\n",
              "    <tr>\n",
              "      <th>3547</th>\n",
              "      <td>1.100074e+11</td>\n",
              "      <td>HOME OIL CO INC - BATON ROUGE FACILITY</td>\n",
              "      <td>1515 RIVER RD</td>\n",
              "      <td>BATON ROUGE</td>\n",
              "      <td>LA</td>\n",
              "      <td>70802</td>\n",
              "      <td>EAST BATON ROUGE</td>\n",
              "      <td>22033.0</td>\n",
              "      <td>6.0</td>\n",
              "      <td>N</td>\n",
              "      <td>...</td>\n",
              "      <td>12/13/2005</td>\n",
              "      <td>NaN</td>\n",
              "      <td>NaN</td>\n",
              "      <td>NaN</td>\n",
              "      <td>NaN</td>\n",
              "      <td>NaN</td>\n",
              "      <td>NaN</td>\n",
              "      <td>Y</td>\n",
              "      <td>Y</td>\n",
              "      <td>0101000020AD100000D174763238CC56C03B70CE88D26E...</td>\n",
              "    </tr>\n",
              "    <tr>\n",
              "      <th>3561</th>\n",
              "      <td>1.100013e+11</td>\n",
              "      <td>WAGUESPACK OIL CO</td>\n",
              "      <td>12131 AIRLINE HWY</td>\n",
              "      <td>BATON ROUGE</td>\n",
              "      <td>LA</td>\n",
              "      <td>70817</td>\n",
              "      <td>EAST BATON ROUGE</td>\n",
              "      <td>22033.0</td>\n",
              "      <td>6.0</td>\n",
              "      <td>N</td>\n",
              "      <td>...</td>\n",
              "      <td>NaN</td>\n",
              "      <td>NaN</td>\n",
              "      <td>07/13/2004</td>\n",
              "      <td>NaN</td>\n",
              "      <td>NaN</td>\n",
              "      <td>NaN</td>\n",
              "      <td>NaN</td>\n",
              "      <td>NaN</td>\n",
              "      <td>Y</td>\n",
              "      <td>0101000020AD1000001E166A4DF3C256C016359886E163...</td>\n",
              "    </tr>\n",
              "    <tr>\n",
              "      <th>4971</th>\n",
              "      <td>1.100033e+11</td>\n",
              "      <td>EXXONMOBIL BATON ROUGE TERMINAL</td>\n",
              "      <td>3329 SCENIC HIGHWAY</td>\n",
              "      <td>BATON ROUGE</td>\n",
              "      <td>LA</td>\n",
              "      <td>70805</td>\n",
              "      <td>EAST BATON ROUGE PARISH</td>\n",
              "      <td>22033.0</td>\n",
              "      <td>6.0</td>\n",
              "      <td>N</td>\n",
              "      <td>...</td>\n",
              "      <td>06/13/2024</td>\n",
              "      <td>08/25/2011</td>\n",
              "      <td>09/30/2021</td>\n",
              "      <td>NaN</td>\n",
              "      <td>07/20/2022</td>\n",
              "      <td>NaN</td>\n",
              "      <td>NaN</td>\n",
              "      <td>NaN</td>\n",
              "      <td>Y</td>\n",
              "      <td>0101000020AD100000F7C77BD5CACA56C0350C1F11537A...</td>\n",
              "    </tr>\n",
              "    <tr>\n",
              "      <th>4977</th>\n",
              "      <td>1.100337e+11</td>\n",
              "      <td>ERGON OIL PURCHASING</td>\n",
              "      <td>390 W THOMAS RD</td>\n",
              "      <td>BATON ROUGE</td>\n",
              "      <td>LA</td>\n",
              "      <td>70807</td>\n",
              "      <td>EAST BATON ROUGE</td>\n",
              "      <td>22033.0</td>\n",
              "      <td>6.0</td>\n",
              "      <td>N</td>\n",
              "      <td>...</td>\n",
              "      <td>05/18/2022</td>\n",
              "      <td>05/03/2022</td>\n",
              "      <td>02/29/2012</td>\n",
              "      <td>NaN</td>\n",
              "      <td>05/07/2020</td>\n",
              "      <td>NaN</td>\n",
              "      <td>NaN</td>\n",
              "      <td>Y</td>\n",
              "      <td>Y</td>\n",
              "      <td>0101000020AD100000F7E461A1D6CC56C0CC7A3194138D...</td>\n",
              "    </tr>\n",
              "  </tbody>\n",
              "</table>\n",
              "<p>6 rows × 135 columns</p>\n",
              "</div>\n",
              "    <div class=\"colab-df-buttons\">\n",
              "\n",
              "  <div class=\"colab-df-container\">\n",
              "    <button class=\"colab-df-convert\" onclick=\"convertToInteractive('df-69485d4a-6810-4043-a0cb-25636c9ef483')\"\n",
              "            title=\"Convert this dataframe to an interactive table.\"\n",
              "            style=\"display:none;\">\n",
              "\n",
              "  <svg xmlns=\"http://www.w3.org/2000/svg\" height=\"24px\" viewBox=\"0 -960 960 960\">\n",
              "    <path d=\"M120-120v-720h720v720H120Zm60-500h600v-160H180v160Zm220 220h160v-160H400v160Zm0 220h160v-160H400v160ZM180-400h160v-160H180v160Zm440 0h160v-160H620v160ZM180-180h160v-160H180v160Zm440 0h160v-160H620v160Z\"/>\n",
              "  </svg>\n",
              "    </button>\n",
              "\n",
              "  <style>\n",
              "    .colab-df-container {\n",
              "      display:flex;\n",
              "      gap: 12px;\n",
              "    }\n",
              "\n",
              "    .colab-df-convert {\n",
              "      background-color: #E8F0FE;\n",
              "      border: none;\n",
              "      border-radius: 50%;\n",
              "      cursor: pointer;\n",
              "      display: none;\n",
              "      fill: #1967D2;\n",
              "      height: 32px;\n",
              "      padding: 0 0 0 0;\n",
              "      width: 32px;\n",
              "    }\n",
              "\n",
              "    .colab-df-convert:hover {\n",
              "      background-color: #E2EBFA;\n",
              "      box-shadow: 0px 1px 2px rgba(60, 64, 67, 0.3), 0px 1px 3px 1px rgba(60, 64, 67, 0.15);\n",
              "      fill: #174EA6;\n",
              "    }\n",
              "\n",
              "    .colab-df-buttons div {\n",
              "      margin-bottom: 4px;\n",
              "    }\n",
              "\n",
              "    [theme=dark] .colab-df-convert {\n",
              "      background-color: #3B4455;\n",
              "      fill: #D2E3FC;\n",
              "    }\n",
              "\n",
              "    [theme=dark] .colab-df-convert:hover {\n",
              "      background-color: #434B5C;\n",
              "      box-shadow: 0px 1px 3px 1px rgba(0, 0, 0, 0.15);\n",
              "      filter: drop-shadow(0px 1px 2px rgba(0, 0, 0, 0.3));\n",
              "      fill: #FFFFFF;\n",
              "    }\n",
              "  </style>\n",
              "\n",
              "    <script>\n",
              "      const buttonEl =\n",
              "        document.querySelector('#df-69485d4a-6810-4043-a0cb-25636c9ef483 button.colab-df-convert');\n",
              "      buttonEl.style.display =\n",
              "        google.colab.kernel.accessAllowed ? 'block' : 'none';\n",
              "\n",
              "      async function convertToInteractive(key) {\n",
              "        const element = document.querySelector('#df-69485d4a-6810-4043-a0cb-25636c9ef483');\n",
              "        const dataTable =\n",
              "          await google.colab.kernel.invokeFunction('convertToInteractive',\n",
              "                                                    [key], {});\n",
              "        if (!dataTable) return;\n",
              "\n",
              "        const docLinkHtml = 'Like what you see? Visit the ' +\n",
              "          '<a target=\"_blank\" href=https://colab.research.google.com/notebooks/data_table.ipynb>data table notebook</a>'\n",
              "          + ' to learn more about interactive tables.';\n",
              "        element.innerHTML = '';\n",
              "        dataTable['output_type'] = 'display_data';\n",
              "        await google.colab.output.renderOutput(dataTable, element);\n",
              "        const docLink = document.createElement('div');\n",
              "        docLink.innerHTML = docLinkHtml;\n",
              "        element.appendChild(docLink);\n",
              "      }\n",
              "    </script>\n",
              "  </div>\n",
              "\n",
              "\n",
              "<div id=\"df-69721414-7147-49de-b2a4-437ff5aaf2db\">\n",
              "  <button class=\"colab-df-quickchart\" onclick=\"quickchart('df-69721414-7147-49de-b2a4-437ff5aaf2db')\"\n",
              "            title=\"Suggest charts\"\n",
              "            style=\"display:none;\">\n",
              "\n",
              "<svg xmlns=\"http://www.w3.org/2000/svg\" height=\"24px\"viewBox=\"0 0 24 24\"\n",
              "     width=\"24px\">\n",
              "    <g>\n",
              "        <path d=\"M19 3H5c-1.1 0-2 .9-2 2v14c0 1.1.9 2 2 2h14c1.1 0 2-.9 2-2V5c0-1.1-.9-2-2-2zM9 17H7v-7h2v7zm4 0h-2V7h2v10zm4 0h-2v-4h2v4z\"/>\n",
              "    </g>\n",
              "</svg>\n",
              "  </button>\n",
              "\n",
              "<style>\n",
              "  .colab-df-quickchart {\n",
              "      --bg-color: #E8F0FE;\n",
              "      --fill-color: #1967D2;\n",
              "      --hover-bg-color: #E2EBFA;\n",
              "      --hover-fill-color: #174EA6;\n",
              "      --disabled-fill-color: #AAA;\n",
              "      --disabled-bg-color: #DDD;\n",
              "  }\n",
              "\n",
              "  [theme=dark] .colab-df-quickchart {\n",
              "      --bg-color: #3B4455;\n",
              "      --fill-color: #D2E3FC;\n",
              "      --hover-bg-color: #434B5C;\n",
              "      --hover-fill-color: #FFFFFF;\n",
              "      --disabled-bg-color: #3B4455;\n",
              "      --disabled-fill-color: #666;\n",
              "  }\n",
              "\n",
              "  .colab-df-quickchart {\n",
              "    background-color: var(--bg-color);\n",
              "    border: none;\n",
              "    border-radius: 50%;\n",
              "    cursor: pointer;\n",
              "    display: none;\n",
              "    fill: var(--fill-color);\n",
              "    height: 32px;\n",
              "    padding: 0;\n",
              "    width: 32px;\n",
              "  }\n",
              "\n",
              "  .colab-df-quickchart:hover {\n",
              "    background-color: var(--hover-bg-color);\n",
              "    box-shadow: 0 1px 2px rgba(60, 64, 67, 0.3), 0 1px 3px 1px rgba(60, 64, 67, 0.15);\n",
              "    fill: var(--button-hover-fill-color);\n",
              "  }\n",
              "\n",
              "  .colab-df-quickchart-complete:disabled,\n",
              "  .colab-df-quickchart-complete:disabled:hover {\n",
              "    background-color: var(--disabled-bg-color);\n",
              "    fill: var(--disabled-fill-color);\n",
              "    box-shadow: none;\n",
              "  }\n",
              "\n",
              "  .colab-df-spinner {\n",
              "    border: 2px solid var(--fill-color);\n",
              "    border-color: transparent;\n",
              "    border-bottom-color: var(--fill-color);\n",
              "    animation:\n",
              "      spin 1s steps(1) infinite;\n",
              "  }\n",
              "\n",
              "  @keyframes spin {\n",
              "    0% {\n",
              "      border-color: transparent;\n",
              "      border-bottom-color: var(--fill-color);\n",
              "      border-left-color: var(--fill-color);\n",
              "    }\n",
              "    20% {\n",
              "      border-color: transparent;\n",
              "      border-left-color: var(--fill-color);\n",
              "      border-top-color: var(--fill-color);\n",
              "    }\n",
              "    30% {\n",
              "      border-color: transparent;\n",
              "      border-left-color: var(--fill-color);\n",
              "      border-top-color: var(--fill-color);\n",
              "      border-right-color: var(--fill-color);\n",
              "    }\n",
              "    40% {\n",
              "      border-color: transparent;\n",
              "      border-right-color: var(--fill-color);\n",
              "      border-top-color: var(--fill-color);\n",
              "    }\n",
              "    60% {\n",
              "      border-color: transparent;\n",
              "      border-right-color: var(--fill-color);\n",
              "    }\n",
              "    80% {\n",
              "      border-color: transparent;\n",
              "      border-right-color: var(--fill-color);\n",
              "      border-bottom-color: var(--fill-color);\n",
              "    }\n",
              "    90% {\n",
              "      border-color: transparent;\n",
              "      border-bottom-color: var(--fill-color);\n",
              "    }\n",
              "  }\n",
              "</style>\n",
              "\n",
              "  <script>\n",
              "    async function quickchart(key) {\n",
              "      const quickchartButtonEl =\n",
              "        document.querySelector('#' + key + ' button');\n",
              "      quickchartButtonEl.disabled = true;  // To prevent multiple clicks.\n",
              "      quickchartButtonEl.classList.add('colab-df-spinner');\n",
              "      try {\n",
              "        const charts = await google.colab.kernel.invokeFunction(\n",
              "            'suggestCharts', [key], {});\n",
              "      } catch (error) {\n",
              "        console.error('Error during call to suggestCharts:', error);\n",
              "      }\n",
              "      quickchartButtonEl.classList.remove('colab-df-spinner');\n",
              "      quickchartButtonEl.classList.add('colab-df-quickchart-complete');\n",
              "    }\n",
              "    (() => {\n",
              "      let quickchartButtonEl =\n",
              "        document.querySelector('#df-69721414-7147-49de-b2a4-437ff5aaf2db button');\n",
              "      quickchartButtonEl.style.display =\n",
              "        google.colab.kernel.accessAllowed ? 'block' : 'none';\n",
              "    })();\n",
              "  </script>\n",
              "</div>\n",
              "\n",
              "    </div>\n",
              "  </div>\n"
            ],
            "application/vnd.google.colaboratory.intrinsic+json": {
              "type": "dataframe"
            }
          },
          "metadata": {},
          "execution_count": 6
        }
      ],
      "source": [
        "# Find Baton Rouge facilities regulated under the Clean Air Act with NAICS code `424710`\n",
        "# Petroleum Bulk Stations and Terminals\n",
        "facilities.loc[facilities['CAA_NAICS'].isin(['424710'])]"
      ]
    },
    {
      "cell_type": "markdown",
      "metadata": {
        "id": "NpbuvNhzXgN4"
      },
      "source": [
        "### 4. Construct your own query!\n",
        "\n",
        "Here is a list we started to compile relevant NAICS and SIC codes that describe facilities related to the oil and gas sector: https://docs.google.com/spreadsheets/d/1rYhlApvy2tiA2aATRvAyVDWF--Fs5viJ/edit#gid=1674382919 This is not a comprehensive list! We just started looking at some facilities in Texas and noting their codes.\n",
        "\n",
        "A more comprehensive approach would go through the codes listed after searching for \"oil and gas\" at the NAICS website: https://www.naics.com/search/\n"
      ]
    },
    {
      "cell_type": "code",
      "execution_count": null,
      "metadata": {
        "id": "Pe0pN53jdS6y"
      },
      "outputs": [],
      "source": [
        "sql = '' # Your query here\n",
        "# Some notes about syntax. Use \"\" double quotes around the names of tables and columns.\n",
        "# Use single quotes '' around the entire query\n",
        "# Use \\' around strings that are a part of the query e.g. \\'BATON ROUGE\\'\n",
        "results = get_echo_data(sql)"
      ]
    },
    {
      "cell_type": "markdown",
      "metadata": {
        "id": "C-sQQbU_aRLO"
      },
      "source": [
        "## More details on program data available in the ECHO database...\n",
        "\n",
        " **Inspections** or **evaluations** are usually the first phase in the enforcement pipeline, how many (but not all) violations are discovered.  **Violations** happen when a facilty is found to be out of compliance with an environmental law, often by violating the terms of its permit issued under that law.  **Enforcement actions** happen when the regulating agency decides to initiate a \"case\" against a firm for its violation of an environmental law, either by considering some administrative penalty such as a fine or by taking the violator to court.\n",
        "\n",
        "What's available for you to look at here:\n",
        "\n",
        "https://github.com/edgi-govdata-archiving/ECHO-Oil-Gas/blob/main/slim_echoepa_a_schema.sql\n",
        "\n",
        "**Hazardous and Other Waste**:\n",
        "- RCRA_EVALUATIONS = Inspections under RCRA\n",
        "- RCRA_VIOLATIONS = Violations of RCRA rules\n",
        "- RCRA_ENFORCEMENTS = Enforcement actions taken by state agencies and the EPA\n",
        "\n",
        "Here's where you can find definitions of terms used in the columns of RCRA data:\n",
        "https://echo.epa.gov/tools/data-downloads/rcrainfo-download-summary\n",
        "\n",
        "**Air**:\n",
        "- ICIS-AIR_VIOLATION_HISTORY = CAA violations\n",
        "- ICIS-AIR_FCES_PCES = Both state and federal CAA compliance evaluations\n",
        "- ICIS-AIR_FORMAL_ACTIONS = CAA formal enforcement actions\n",
        "\n",
        "Here's where you can find definitions of terms used in the columns of Clean Air Act data:\n",
        "https://echo.epa.gov/tools/data-downloads/icis-air-download-summary\n",
        "\n",
        "**Air Emissions** (Combined air emissions data for stationary sources from four EPA air programs: National Emissions Inventory (NEI), Greenhouse Gas Reporting Program (GHGRP), Toxic Release Inventory (TRI), and Clean Air Markets (CAMD)):\n",
        "- Greenhouse Gases via POLL_RPT_COMBINED_EMISSIONS\n",
        "- Toxic Releases via POLL_RPT_COMBINED_EMISSIONS\n",
        "\n",
        "Here's where you can find definitions of terms used in the columns of this data: https://echo.epa.gov/tools/data-downloads/air-emissions-download-summary\n",
        "\n",
        "**Water** (National Pollutant Discharge Elimination System, or NPDES):\n",
        "- NPDES_QNCR_HISTORY = CWA Quarterly Non-Compliance History\n",
        "- NPDES_INSPECTIONS = CWA Inspections\n",
        "- NPDES_FORMAL_ENFORCEMENT_ACTIONS = CWA Enforcements\n",
        "\n",
        "Here's where you can find definitions of terms used in the columns of Clean Water Act data: https://echo.epa.gov/tools/data-downloads/icis-npdes-download-summary\n",
        "\n",
        "**Drinking Water** (Safe Drinking Water Act, or SDWA):\n",
        "- SDWA_PUB_WATER_SYSTEMS = Public Water Systems under Safe Drinking Water Act\n",
        "- SDWA_SITE_VISITS = Safe Drinking Water Site Visits\n",
        "- SDWA_VIOLATIONS = Safe Drinking Water Violations\n",
        "- SDWA_SERIOUS_VIOLATORS = Safe Drinking Water Serious Violators\n",
        "- SDWA_ENFORCEMENTS = Safe Drinking Water Enforcements\n",
        "- SDWA_RETURN_TO_COMPLIANCE = Safe Drinking Water Return to Compliance\n",
        "\n",
        "Here's where you can find definitions of terms used in the columns of Clean Water Act data: https://echo.epa.gov/tools/data-downloads/sdwa-download-summary"
      ]
    }
  ],
  "metadata": {
    "colab": {
      "name": "EEW_Tutorial",
      "provenance": []
    },
    "kernelspec": {
      "display_name": "Python 3",
      "language": "python",
      "name": "python3"
    },
    "language_info": {
      "codemirror_mode": {
        "name": "ipython",
        "version": 3
      },
      "file_extension": ".py",
      "mimetype": "text/x-python",
      "name": "python",
      "nbconvert_exporter": "python",
      "pygments_lexer": "ipython3",
      "version": "3.8.5"
    }
  },
  "nbformat": 4,
  "nbformat_minor": 0
}