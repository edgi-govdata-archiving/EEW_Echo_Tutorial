{
 "cells": [
  {
   "cell_type": "markdown",
   "metadata": {},
   "source": [
    "|  ![EEW logo](https://github.com/edgi-govdata-archiving/EEW-Image-Assets/blob/master/Jupyter%20instructions/eew.jpg?raw=true) | ![EDGI logo](https://github.com/edgi-govdata-archiving/EEW-Image-Assets/blob/master/Jupyter%20instructions/edgi.png?raw=true) |\n",
    "|---|---|---|\n",
    "\n",
    "#### This notebook is licensed under GPL 3.0. Please visit [our Github repo](https://github.com/edgi-govdata-archiving/ECHO-Sunrise) for more information.\n",
    "#### The data you will interact with here is a copy of several tables from [EPA's Enforcement and Compliance History database](https://echo.epa.gov/tools/data-downloads#downloads). Our copy is stored on a server at Stony Brook University and is updated every Sunday (latest refresh: July 12, 2020)"
   ]
  },
  {
   "cell_type": "markdown",
   "metadata": {},
   "source": [
    "## How to Run this Notebook\n",
    "* A \"cell\" in a Jupyter notebook is a block of code performing a set of actions making available or using specific data.  The notebook works by running one cell after another, as the notebook user selects offered options.\n",
    "* If you click on a gray **code** cell, a little “play button” arrow appears on the left. If you click the play button, it will run the code in that cell (“**running** a cell”). The button will animate. When the animation stops, the cell has finished running.\n",
    "![Where to click to run the cell](https://github.com/edgi-govdata-archiving/EEW-Image-Assets/blob/master/Jupyter%20instructions/pressplay.JPG?raw=true)\n",
    "* You may get a warning that the notebook was not authored by Google. We know, we authored them! It’s okay. Click “Run Anyway” to continue.  \n",
    "![Error Message](https://github.com/edgi-govdata-archiving/EEW-Image-Assets/blob/master/Jupyter%20instructions/warning-message.JPG?raw=true)\n",
    "* **It is important to run cells in order because they depend on each other.**\n",
    "* Run all of the cells in a Notebook to make a complete report. Please feel free to look at and **learn about each result as you create it**!\n",
    "* As you run this notebook, we will automatically export spreadsheet versions of the data. Click on the 'Files' tab in the menu on the left-hand side of the notebook (it looks like a folder). You may have to hit 'Refresh' if you don't see your file. Then, you can click on the ... next to your file and choose \"Download\". The CSV spreadsheet will download to wherever your browser usually saves files (e.g. Downloads folder)"
   ]
  },
  {
   "cell_type": "markdown",
   "metadata": {},
   "source": [
    "# **Let's begin!** \n",
    "These first few cells give us access to some external Python code we will need. Hover over the \"[ ]\" on the top left corner of the cell below and you should see a \"play\" button appear. Click on it to run the cell then move to the next one.\n",
    "In Google Colab this code from Github will be installed in the Files section in the left margin.\n",
    "### 1.  Bring in extra code"
   ]
  },
  {
   "cell_type": "code",
   "execution_count": null,
   "metadata": {
    "scrolled": true
   },
   "outputs": [],
   "source": [
    "# Code stored in Github projects\n",
    "!git clone https://github.com/edgi-govdata-archiving/ECHO_modules.git\n",
    "!git clone -b sunrise --single-branch https://github.com/edgi-govdata-archiving/ECHO-Geo.git  # Do Sunrise-specific branch with fewer geos\n",
    "!git clone https://github.com/edgi-govdata-archiving/ECHO-Sunrise.git  # This has the utilities file for mapping and make_data_sets.py"
   ]
  },
  {
   "cell_type": "code",
   "execution_count": null,
   "metadata": {},
   "outputs": [],
   "source": [
    "# Import main code libraries\n",
    "%run ECHO_modules/DataSet.py\n",
    "%run ECHO-Sunrise/utilities.py\n",
    "import pandas as pd\n",
    "!pip install geopandas &>/dev/null;\n",
    "import geopandas\n",
    "import matplotlib.pyplot as plt\n",
    "import seaborn as sns\n",
    "%matplotlib inline\n",
    "import requests\n",
    "import csv\n",
    "import datetime\n",
    "import ipywidgets as widgets  \n",
    "from IPython.core.display import display, HTML"
   ]
  },
   {
   "cell_type": "markdown",
   "metadata": {},
   "source": [
    "## This cell gets the EPA data from the Stonybrook University database.\n",
    "EDGI effectively copied the EPA’s data into our own database hosted at Stony Brook University. It is updated every two weeks. We archived it like this instead of querying EPA directly in case the EPA ever decides to remove the data."
   ]
  },
   {
   "cell_type": "code",
   "execution_count": null,
   "metadata": {},
   "outputs": [],
   "source": [
    "geo_json_data = cd_data[(cd_data[\"District\"] == select_region_widget.value)] #where ids match\n",
    "\n",
    "echo_data_sql = 'select * from \"ECHO_EXPORTER\" where \"FAC_STATE\" = \\'MA\\' and \"FAC_ACTIVE_FLAG\"=\\'Y\\' '\n",
    "echo_data = get_data( echo_data_sql, 'REGISTRY_ID' )\n",
    "        \n",
    "if ( not echo_data.empty ):\n",
    "    num_facilities = echo_data.shape[0]\n",
    "    # Get selected district\n",
    "\n",
    "    # Join the facilities and the chosen district\n",
    "    this_district_data = echo_data.loc[(echo_data[\"FAC_DERIVED_CD113\"]==float(select_region_widget.value.strip(\"Congressional District\")))]\n",
    "\n",
    "    # Summarize \n",
    "    display(HTML(\"<h3>There are %s facilities in Massachussets currently tracked in the ECHO database.\" %(num_facilities)))\n",
    "    display(HTML(\"<h3>There are \"+ str(this_district_data.shape[0]) + \" facilities in this district.\"))\n",
    "    display(HTML(\"<h3>There are \"+ str(this_district_data.loc[this_district_data[\"RCRA_FLAG\"] == \"Y\"].shape[0]) + \" facilities regulated under RCRA (hazardous waste) in this district.</h3>\"))\n",
    "    display(HTML(\"<h3>There are \"+ str(this_district_data.loc[this_district_data[\"NPDES_FLAG\"] == \"Y\"].shape[0]) + \" facilities regulated under the Clean Water Act in this district.</h3>\"))\n",
    "    display(HTML(\"<h3>There are \"+ str(this_district_data.loc[this_district_data[\"AIR_FLAG\"] == \"Y\"].shape[0]) + \" facilities regulated under the Clean Air Act in this district.</h3>\"))\n",
    "    display(HTML(\"<h3>There are \"+ str(this_district_data.loc[this_district_data[\"GHG_FLAG\"] == \"Y\"].shape[0]) + \" facilities reporting greenhouse gas emissions in this district.</h3>\"))\n"
   ]
  }, 
  {
   "cell_type": "markdown",
   "metadata": {},
   "source": [
    "## SQL Basics\n",
    "To get our data into the database we use the INSERT statement.\n",
    "Once we have data in our table, we can run a query and make sure it looks right. We can use the SELECT statement to do this. For a first query we can ask the database to return all rows and columns from our table. You use the * operator to do this.\n",
    "You can also order the results how you'd like. This is done by using the ORDER BY clause.\n",
    "The GROUP BY Statement in SQL is used to arrange identical data into groups with the help of some functions. i.e if a particular column has same values in different rows then it will arrange these rows in a group.\n"
   ]
  },
  {
   "cell_type": "markdown",
   "metadata": {},
   "source": [
    "## Challenge 1\n",
    "Try to write a basic query to ECHO_EXPORTER: How many facilities are regulated under the Clean Air Act in Massachusetts?\n",
    "Hint: sql = 'select * from “ECHO_EXPORTER” where FAC_STATE = \'MA\' and AIR_FLAG = \'Y\''\n"
   ]
  },
  {
   "cell_type": "markdown",
   "metadata": {},
   "source": [
    "## Challenge 2\n",
    "How many facilities regulated under CAA in MA are in the city of Boston? \n",
    "Hint: data = data.loc[data['fac_city']=='city name'\n"
   ]
 },
 ],
 "metadata": {
  "kernelspec": {
   "display_name": "Python 3",
   "language": "python",
   "name": "python3"
  },
  "language_info": {
   "codemirror_mode": {
    "name": "ipython",
    "version": 3
   },
   "file_extension": ".py",
   "mimetype": "text/x-python",
   "name": "python",
   "nbconvert_exporter": "python",
   "pygments_lexer": "ipython3",
   "version": "3.7.6"
  }
 },
 "nbformat": 4,
 "nbformat_minor": 2
}
